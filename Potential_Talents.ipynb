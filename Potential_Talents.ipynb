{
 "cells": [
  {
   "cell_type": "code",
   "execution_count": 1,
   "id": "68b87860",
   "metadata": {},
   "outputs": [],
   "source": [
    "import pandas  as pd\n",
    "import re\n",
    "import numpy as np"
   ]
  },
  {
   "cell_type": "code",
   "execution_count": 2,
   "id": "8f156d9e",
   "metadata": {},
   "outputs": [],
   "source": [
    "data=pd.read_csv(\"C:/Users/97155/Downloads/potential-talents - Aspiring human resources - seeking human resources.csv\")"
   ]
  },
  {
   "cell_type": "code",
   "execution_count": 3,
   "id": "8bf0f80f",
   "metadata": {},
   "outputs": [
    {
     "data": {
      "text/html": [
       "<div>\n",
       "<style scoped>\n",
       "    .dataframe tbody tr th:only-of-type {\n",
       "        vertical-align: middle;\n",
       "    }\n",
       "\n",
       "    .dataframe tbody tr th {\n",
       "        vertical-align: top;\n",
       "    }\n",
       "\n",
       "    .dataframe thead th {\n",
       "        text-align: right;\n",
       "    }\n",
       "</style>\n",
       "<table border=\"1\" class=\"dataframe\">\n",
       "  <thead>\n",
       "    <tr style=\"text-align: right;\">\n",
       "      <th></th>\n",
       "      <th>id</th>\n",
       "      <th>job_title</th>\n",
       "      <th>location</th>\n",
       "      <th>connection</th>\n",
       "      <th>fit</th>\n",
       "    </tr>\n",
       "  </thead>\n",
       "  <tbody>\n",
       "    <tr>\n",
       "      <th>0</th>\n",
       "      <td>1</td>\n",
       "      <td>2019 C.T. Bauer College of Business Graduate (...</td>\n",
       "      <td>Houston, Texas</td>\n",
       "      <td>85</td>\n",
       "      <td>NaN</td>\n",
       "    </tr>\n",
       "    <tr>\n",
       "      <th>1</th>\n",
       "      <td>2</td>\n",
       "      <td>Native English Teacher at EPIK (English Progra...</td>\n",
       "      <td>Kanada</td>\n",
       "      <td>500+</td>\n",
       "      <td>NaN</td>\n",
       "    </tr>\n",
       "    <tr>\n",
       "      <th>2</th>\n",
       "      <td>3</td>\n",
       "      <td>Aspiring Human Resources Professional</td>\n",
       "      <td>Raleigh-Durham, North Carolina Area</td>\n",
       "      <td>44</td>\n",
       "      <td>NaN</td>\n",
       "    </tr>\n",
       "    <tr>\n",
       "      <th>3</th>\n",
       "      <td>4</td>\n",
       "      <td>People Development Coordinator at Ryan</td>\n",
       "      <td>Denton, Texas</td>\n",
       "      <td>500+</td>\n",
       "      <td>NaN</td>\n",
       "    </tr>\n",
       "    <tr>\n",
       "      <th>4</th>\n",
       "      <td>5</td>\n",
       "      <td>Advisory Board Member at Celal Bayar University</td>\n",
       "      <td>İzmir, Türkiye</td>\n",
       "      <td>500+</td>\n",
       "      <td>NaN</td>\n",
       "    </tr>\n",
       "    <tr>\n",
       "      <th>...</th>\n",
       "      <td>...</td>\n",
       "      <td>...</td>\n",
       "      <td>...</td>\n",
       "      <td>...</td>\n",
       "      <td>...</td>\n",
       "    </tr>\n",
       "    <tr>\n",
       "      <th>99</th>\n",
       "      <td>100</td>\n",
       "      <td>Aspiring Human Resources Manager | Graduating ...</td>\n",
       "      <td>Cape Girardeau, Missouri</td>\n",
       "      <td>103</td>\n",
       "      <td>NaN</td>\n",
       "    </tr>\n",
       "    <tr>\n",
       "      <th>100</th>\n",
       "      <td>101</td>\n",
       "      <td>Human Resources Generalist at Loparex</td>\n",
       "      <td>Raleigh-Durham, North Carolina Area</td>\n",
       "      <td>500+</td>\n",
       "      <td>NaN</td>\n",
       "    </tr>\n",
       "    <tr>\n",
       "      <th>101</th>\n",
       "      <td>102</td>\n",
       "      <td>Business Intelligence and Analytics at Travelers</td>\n",
       "      <td>Greater New York City Area</td>\n",
       "      <td>49</td>\n",
       "      <td>NaN</td>\n",
       "    </tr>\n",
       "    <tr>\n",
       "      <th>102</th>\n",
       "      <td>103</td>\n",
       "      <td>Always set them up for Success</td>\n",
       "      <td>Greater Los Angeles Area</td>\n",
       "      <td>500+</td>\n",
       "      <td>NaN</td>\n",
       "    </tr>\n",
       "    <tr>\n",
       "      <th>103</th>\n",
       "      <td>104</td>\n",
       "      <td>Director Of Administration at Excellence Logging</td>\n",
       "      <td>Katy, Texas</td>\n",
       "      <td>500+</td>\n",
       "      <td>NaN</td>\n",
       "    </tr>\n",
       "  </tbody>\n",
       "</table>\n",
       "<p>104 rows × 5 columns</p>\n",
       "</div>"
      ],
      "text/plain": [
       "      id                                          job_title  \\\n",
       "0      1  2019 C.T. Bauer College of Business Graduate (...   \n",
       "1      2  Native English Teacher at EPIK (English Progra...   \n",
       "2      3              Aspiring Human Resources Professional   \n",
       "3      4             People Development Coordinator at Ryan   \n",
       "4      5    Advisory Board Member at Celal Bayar University   \n",
       "..   ...                                                ...   \n",
       "99   100  Aspiring Human Resources Manager | Graduating ...   \n",
       "100  101              Human Resources Generalist at Loparex   \n",
       "101  102   Business Intelligence and Analytics at Travelers   \n",
       "102  103                     Always set them up for Success   \n",
       "103  104   Director Of Administration at Excellence Logging   \n",
       "\n",
       "                                location connection  fit  \n",
       "0                         Houston, Texas         85  NaN  \n",
       "1                                 Kanada      500+   NaN  \n",
       "2    Raleigh-Durham, North Carolina Area         44  NaN  \n",
       "3                          Denton, Texas      500+   NaN  \n",
       "4                         İzmir, Türkiye      500+   NaN  \n",
       "..                                   ...        ...  ...  \n",
       "99              Cape Girardeau, Missouri        103  NaN  \n",
       "100  Raleigh-Durham, North Carolina Area      500+   NaN  \n",
       "101           Greater New York City Area         49  NaN  \n",
       "102             Greater Los Angeles Area      500+   NaN  \n",
       "103                          Katy, Texas      500+   NaN  \n",
       "\n",
       "[104 rows x 5 columns]"
      ]
     },
     "execution_count": 3,
     "metadata": {},
     "output_type": "execute_result"
    }
   ],
   "source": [
    "data"
   ]
  },
  {
   "cell_type": "code",
   "execution_count": 4,
   "id": "1de7b85d",
   "metadata": {},
   "outputs": [
    {
     "data": {
      "text/plain": [
       "0    2019 C.T. Bauer College of Business Graduate (...\n",
       "1    Native English Teacher at EPIK (English Progra...\n",
       "2                Aspiring Human Resources Professional\n",
       "3               People Development Coordinator at Ryan\n",
       "Name: job_title, dtype: object"
      ]
     },
     "execution_count": 4,
     "metadata": {},
     "output_type": "execute_result"
    }
   ],
   "source": [
    "data[\"job_title\"][:4]"
   ]
  },
  {
   "cell_type": "code",
   "execution_count": 5,
   "id": "56e87bd4",
   "metadata": {},
   "outputs": [],
   "source": [
    "import re\n",
    "keywords = [\"Human Resources\"]\n",
    "\n",
    "pattern = '|'.join(keywords)\n",
    "\n",
    "data.loc[data[\"job_title\"].str.contains(pattern, case=False, regex=True), \"fit\"] = 1\n",
    "\n",
    "data=data.fillna(0)"
   ]
  },
  {
   "cell_type": "code",
   "execution_count": 6,
   "id": "4ac903a7",
   "metadata": {},
   "outputs": [
    {
     "data": {
      "text/plain": [
       "1.0    60\n",
       "0.0    44\n",
       "Name: fit, dtype: int64"
      ]
     },
     "execution_count": 6,
     "metadata": {},
     "output_type": "execute_result"
    }
   ],
   "source": [
    "data[\"fit\"].value_counts()"
   ]
  },
  {
   "cell_type": "markdown",
   "id": "6e0b7af6",
   "metadata": {},
   "source": [
    "# Bag of Word"
   ]
  },
  {
   "cell_type": "code",
   "execution_count": 7,
   "id": "6b509906",
   "metadata": {},
   "outputs": [
    {
     "data": {
      "text/plain": [
       "array([[0, 1, 1, 0],\n",
       "       [1, 1, 1, 0],\n",
       "       [0, 1, 1, 1]], dtype=int64)"
      ]
     },
     "execution_count": 7,
     "metadata": {},
     "output_type": "execute_result"
    }
   ],
   "source": [
    "from sklearn.feature_extraction.text import CountVectorizer\n",
    "\n",
    "keywords = [\"Human Resources\", \"Aspiring human resources\", \"seeking human resources\"]\n",
    "v = CountVectorizer()\n",
    "key = v.fit_transform(keywords).toarray()\n",
    "key"
   ]
  },
  {
   "cell_type": "code",
   "execution_count": 8,
   "id": "85a9a96e",
   "metadata": {},
   "outputs": [
    {
     "data": {
      "text/plain": [
       "{'human': 1, 'resources': 2, 'aspiring': 0, 'seeking': 3}"
      ]
     },
     "execution_count": 8,
     "metadata": {},
     "output_type": "execute_result"
    }
   ],
   "source": [
    "v.vocabulary_"
   ]
  },
  {
   "cell_type": "code",
   "execution_count": 9,
   "id": "cf7d3427",
   "metadata": {},
   "outputs": [
    {
     "data": {
      "text/plain": [
       "array(['aspiring', 'human', 'resources', 'seeking'], dtype=object)"
      ]
     },
     "execution_count": 9,
     "metadata": {},
     "output_type": "execute_result"
    }
   ],
   "source": [
    "v.get_feature_names_out()"
   ]
  },
  {
   "cell_type": "code",
   "execution_count": 10,
   "id": "c0d11f00",
   "metadata": {},
   "outputs": [],
   "source": [
    " job_title= data[\"job_title\"]"
   ]
  },
  {
   "cell_type": "code",
   "execution_count": 12,
   "id": "7c2a0f31",
   "metadata": {},
   "outputs": [
    {
     "data": {
      "text/plain": [
       "{'human': 1, 'resources': 2, 'aspiring': 0, 'seeking': 3}"
      ]
     },
     "execution_count": 12,
     "metadata": {},
     "output_type": "execute_result"
    }
   ],
   "source": [
    "v.vocabulary_"
   ]
  },
  {
   "cell_type": "code",
   "execution_count": 13,
   "id": "5d307328",
   "metadata": {},
   "outputs": [],
   "source": [
    "from sklearn.pipeline import Pipeline\n",
    "from sklearn.naive_bayes import MultinomialNB\n",
    "clf=Pipeline([\n",
    "    (\"vectorization\", CountVectorizer()),\n",
    "    (\"np\", MultinomialNB())\n",
    "])"
   ]
  },
  {
   "cell_type": "markdown",
   "id": "c1e443e7",
   "metadata": {},
   "source": [
    "# TF-IDF"
   ]
  },
  {
   "cell_type": "markdown",
   "id": "bd0561a3",
   "metadata": {},
   "source": [
    "IDF(inverse document frequancy) = log(Total number of documents/number of documents term t present in )"
   ]
  },
  {
   "cell_type": "markdown",
   "id": "82104b37",
   "metadata": {},
   "source": [
    "TF(term frequancy) = (Total number of time term t is present in doc A / Total number of tokens in doc A)"
   ]
  },
  {
   "cell_type": "markdown",
   "id": "7a781a3d",
   "metadata": {},
   "source": [
    "TF-IDF = TF * IDF"
   ]
  },
  {
   "cell_type": "code",
   "execution_count": 14,
   "id": "5fe45643",
   "metadata": {},
   "outputs": [],
   "source": [
    "from sklearn.feature_extraction.text import TfidfVectorizer"
   ]
  },
  {
   "cell_type": "code",
   "execution_count": 15,
   "id": "39313fb9",
   "metadata": {},
   "outputs": [],
   "source": [
    "job_title= data[\"job_title\"]\n",
    "\n",
    "tf=TfidfVectorizer()\n",
    "job_title_tf =tf.fit_transform(job_title)"
   ]
  },
  {
   "cell_type": "code",
   "execution_count": 16,
   "id": "27b857e8",
   "metadata": {},
   "outputs": [
    {
     "data": {
      "text/plain": [
       "['__class__',\n",
       " '__delattr__',\n",
       " '__dict__',\n",
       " '__dir__',\n",
       " '__doc__',\n",
       " '__eq__',\n",
       " '__format__',\n",
       " '__ge__',\n",
       " '__getattribute__',\n",
       " '__getstate__',\n",
       " '__gt__',\n",
       " '__hash__',\n",
       " '__init__',\n",
       " '__init_subclass__',\n",
       " '__le__',\n",
       " '__lt__',\n",
       " '__module__',\n",
       " '__ne__',\n",
       " '__new__',\n",
       " '__reduce__',\n",
       " '__reduce_ex__',\n",
       " '__repr__',\n",
       " '__setattr__',\n",
       " '__setstate__',\n",
       " '__sizeof__',\n",
       " '__str__',\n",
       " '__subclasshook__',\n",
       " '__weakref__',\n",
       " '_char_ngrams',\n",
       " '_char_wb_ngrams',\n",
       " '_check_feature_names',\n",
       " '_check_n_features',\n",
       " '_check_params',\n",
       " '_check_stop_words_consistency',\n",
       " '_check_vocabulary',\n",
       " '_count_vocab',\n",
       " '_get_param_names',\n",
       " '_get_tags',\n",
       " '_limit_features',\n",
       " '_more_tags',\n",
       " '_repr_html_',\n",
       " '_repr_html_inner',\n",
       " '_repr_mimebundle_',\n",
       " '_sort_features',\n",
       " '_stop_words_id',\n",
       " '_tfidf',\n",
       " '_validate_data',\n",
       " '_validate_params',\n",
       " '_validate_vocabulary',\n",
       " '_warn_for_unused_params',\n",
       " '_white_spaces',\n",
       " '_word_ngrams',\n",
       " 'analyzer',\n",
       " 'binary',\n",
       " 'build_analyzer',\n",
       " 'build_preprocessor',\n",
       " 'build_tokenizer',\n",
       " 'decode',\n",
       " 'decode_error',\n",
       " 'dtype',\n",
       " 'encoding',\n",
       " 'fit',\n",
       " 'fit_transform',\n",
       " 'fixed_vocabulary_',\n",
       " 'get_feature_names',\n",
       " 'get_feature_names_out',\n",
       " 'get_params',\n",
       " 'get_stop_words',\n",
       " 'idf_',\n",
       " 'input',\n",
       " 'inverse_transform',\n",
       " 'lowercase',\n",
       " 'max_df',\n",
       " 'max_features',\n",
       " 'min_df',\n",
       " 'ngram_range',\n",
       " 'norm',\n",
       " 'preprocessor',\n",
       " 'set_params',\n",
       " 'smooth_idf',\n",
       " 'stop_words',\n",
       " 'stop_words_',\n",
       " 'strip_accents',\n",
       " 'sublinear_tf',\n",
       " 'token_pattern',\n",
       " 'tokenizer',\n",
       " 'transform',\n",
       " 'use_idf',\n",
       " 'vocabulary',\n",
       " 'vocabulary_']"
      ]
     },
     "execution_count": 16,
     "metadata": {},
     "output_type": "execute_result"
    }
   ],
   "source": [
    "dir(tf)"
   ]
  },
  {
   "cell_type": "code",
   "execution_count": 17,
   "id": "889faf17",
   "metadata": {},
   "outputs": [
    {
     "data": {
      "text/plain": [
       "{'2019': 0,\n",
       " 'bauer': 23,\n",
       " 'college': 38,\n",
       " 'of': 127,\n",
       " 'business': 32,\n",
       " 'graduate': 74,\n",
       " 'magna': 114,\n",
       " 'cum': 46,\n",
       " 'laude': 103,\n",
       " 'and': 15,\n",
       " 'aspiring': 18,\n",
       " 'human': 84,\n",
       " 'resources': 155,\n",
       " 'professional': 146,\n",
       " 'native': 124,\n",
       " 'english': 59,\n",
       " 'teacher': 180,\n",
       " 'at': 20,\n",
       " 'epik': 63,\n",
       " 'program': 148,\n",
       " 'in': 87,\n",
       " 'korea': 101,\n",
       " 'people': 140,\n",
       " 'development': 50,\n",
       " 'coordinator': 43,\n",
       " 'ryan': 159,\n",
       " 'advisory': 9,\n",
       " 'board': 29,\n",
       " 'member': 121,\n",
       " 'celal': 34,\n",
       " 'bayar': 24,\n",
       " 'university': 189,\n",
       " 'specialist': 169,\n",
       " 'student': 174,\n",
       " 'humber': 85,\n",
       " 'generalist': 71,\n",
       " 'hr': 82,\n",
       " 'senior': 164,\n",
       " 'seeking': 163,\n",
       " 'hris': 83,\n",
       " 'positions': 144,\n",
       " 'chapman': 36,\n",
       " 'svp': 177,\n",
       " 'chro': 37,\n",
       " 'marketing': 118,\n",
       " 'communications': 39,\n",
       " 'csr': 45,\n",
       " 'officer': 129,\n",
       " 'engie': 57,\n",
       " 'houston': 81,\n",
       " 'the': 182,\n",
       " 'woodlands': 197,\n",
       " 'energy': 55,\n",
       " 'gphr': 73,\n",
       " 'sphr': 170,\n",
       " 'intercontinental': 93,\n",
       " 'buckhead': 31,\n",
       " 'atlanta': 21,\n",
       " 'management': 116,\n",
       " 'an': 12,\n",
       " 'internship': 95,\n",
       " 'opportunities': 132,\n",
       " 'experienced': 66,\n",
       " 'retail': 156,\n",
       " 'manager': 117,\n",
       " 'staffing': 172,\n",
       " 'recruiting': 151,\n",
       " 'luxottica': 113,\n",
       " 'director': 51,\n",
       " 'north': 125,\n",
       " 'america': 11,\n",
       " 'groupe': 76,\n",
       " 'beneteau': 27,\n",
       " 'retired': 157,\n",
       " 'army': 16,\n",
       " 'national': 123,\n",
       " 'guard': 77,\n",
       " 'recruiter': 150,\n",
       " 'office': 128,\n",
       " 'position': 143,\n",
       " 'scottmadden': 162,\n",
       " 'inc': 88,\n",
       " 'major': 115,\n",
       " 'nortia': 126,\n",
       " 'is': 96,\n",
       " 'payroll': 139,\n",
       " 'administrative': 7,\n",
       " 'professionals': 147,\n",
       " '408': 3,\n",
       " '709': 4,\n",
       " '2621': 2,\n",
       " 'passionate': 137,\n",
       " 'about': 5,\n",
       " 'helping': 80,\n",
       " 'to': 184,\n",
       " 'create': 44,\n",
       " 'inclusive': 89,\n",
       " 'engaging': 56,\n",
       " 'work': 198,\n",
       " 'environment': 61,\n",
       " 'conflict': 42,\n",
       " 'policies': 141,\n",
       " 'procedures': 145,\n",
       " 'talent': 179,\n",
       " 'benefits': 26,\n",
       " 'compensation': 41,\n",
       " 'schwan': 160,\n",
       " 'liberal': 107,\n",
       " 'arts': 17,\n",
       " 'analyst': 13,\n",
       " 'junior': 99,\n",
       " 'mes': 122,\n",
       " 'engineer': 58,\n",
       " 'information': 91,\n",
       " 'systems': 178,\n",
       " 'partner': 136,\n",
       " 'heil': 79,\n",
       " 'environmental': 62,\n",
       " 'energetic': 54,\n",
       " 'team': 181,\n",
       " 'focused': 68,\n",
       " 'leader': 105,\n",
       " 'endemol': 53,\n",
       " 'shine': 167,\n",
       " 'for': 69,\n",
       " 'world': 199,\n",
       " 'gis': 72,\n",
       " 'software': 168,\n",
       " 'rrp': 158,\n",
       " 'brand': 30,\n",
       " 'portfolio': 142,\n",
       " 'executive': 65,\n",
       " 'jti': 98,\n",
       " 'japan': 97,\n",
       " 'tobacco': 185,\n",
       " 'international': 94,\n",
       " 'programmer': 149,\n",
       " 'with': 195,\n",
       " 'love': 112,\n",
       " 'data': 48,\n",
       " 'organization': 134,\n",
       " 'bachelor': 22,\n",
       " 'science': 161,\n",
       " 'biology': 28,\n",
       " 'from': 70,\n",
       " 'victoria': 191,\n",
       " 'wellington': 192,\n",
       " 'ey': 67,\n",
       " 'undergraduate': 188,\n",
       " 'research': 154,\n",
       " 'assistant': 19,\n",
       " 'styczynski': 175,\n",
       " 'lab': 102,\n",
       " 'lead': 104,\n",
       " 'official': 130,\n",
       " 'western': 193,\n",
       " 'illinois': 86,\n",
       " 'employment': 52,\n",
       " 'within': 196,\n",
       " 'customer': 47,\n",
       " 'service': 165,\n",
       " 'or': 133,\n",
       " 'patient': 138,\n",
       " 'care': 33,\n",
       " 'admissions': 8,\n",
       " 'representative': 153,\n",
       " 'community': 40,\n",
       " 'medical': 120,\n",
       " 'center': 35,\n",
       " 'long': 109,\n",
       " 'beach': 25,\n",
       " 'open': 131,\n",
       " 'travel': 186,\n",
       " 'relocation': 152,\n",
       " 'westfield': 194,\n",
       " 'state': 173,\n",
       " 'indiana': 90,\n",
       " 'kokomo': 100,\n",
       " 'delphi': 49,\n",
       " 'hardware': 78,\n",
       " 'paint': 135,\n",
       " 'graduating': 75,\n",
       " 'may': 119,\n",
       " '2020': 1,\n",
       " 'entry': 60,\n",
       " 'level': 106,\n",
       " 'st': 171,\n",
       " 'louis': 111,\n",
       " 'loparex': 110,\n",
       " 'intelligence': 92,\n",
       " 'analytics': 14,\n",
       " 'travelers': 187,\n",
       " 'always': 10,\n",
       " 'set': 166,\n",
       " 'them': 183,\n",
       " 'up': 190,\n",
       " 'success': 176,\n",
       " 'administration': 6,\n",
       " 'excellence': 64,\n",
       " 'logging': 108}"
      ]
     },
     "execution_count": 17,
     "metadata": {},
     "output_type": "execute_result"
    }
   ],
   "source": [
    "tf.vocabulary_"
   ]
  },
  {
   "cell_type": "code",
   "execution_count": 18,
   "id": "881a7bcc",
   "metadata": {},
   "outputs": [
    {
     "data": {
      "text/plain": [
       "array(['2019', '2020', '2621', '408', '709', 'about', 'administration',\n",
       "       'administrative', 'admissions', 'advisory', 'always', 'america',\n",
       "       'an', 'analyst', 'analytics', 'and', 'army', 'arts', 'aspiring',\n",
       "       'assistant', 'at', 'atlanta', 'bachelor', 'bauer', 'bayar',\n",
       "       'beach', 'benefits', 'beneteau', 'biology', 'board', 'brand',\n",
       "       'buckhead', 'business', 'care', 'celal', 'center', 'chapman',\n",
       "       'chro', 'college', 'communications', 'community', 'compensation',\n",
       "       'conflict', 'coordinator', 'create', 'csr', 'cum', 'customer',\n",
       "       'data', 'delphi', 'development', 'director', 'employment',\n",
       "       'endemol', 'energetic', 'energy', 'engaging', 'engie', 'engineer',\n",
       "       'english', 'entry', 'environment', 'environmental', 'epik',\n",
       "       'excellence', 'executive', 'experienced', 'ey', 'focused', 'for',\n",
       "       'from', 'generalist', 'gis', 'gphr', 'graduate', 'graduating',\n",
       "       'groupe', 'guard', 'hardware', 'heil', 'helping', 'houston', 'hr',\n",
       "       'hris', 'human', 'humber', 'illinois', 'in', 'inc', 'inclusive',\n",
       "       'indiana', 'information', 'intelligence', 'intercontinental',\n",
       "       'international', 'internship', 'is', 'japan', 'jti', 'junior',\n",
       "       'kokomo', 'korea', 'lab', 'laude', 'lead', 'leader', 'level',\n",
       "       'liberal', 'logging', 'long', 'loparex', 'louis', 'love',\n",
       "       'luxottica', 'magna', 'major', 'management', 'manager',\n",
       "       'marketing', 'may', 'medical', 'member', 'mes', 'national',\n",
       "       'native', 'north', 'nortia', 'of', 'office', 'officer', 'official',\n",
       "       'open', 'opportunities', 'or', 'organization', 'paint', 'partner',\n",
       "       'passionate', 'patient', 'payroll', 'people', 'policies',\n",
       "       'portfolio', 'position', 'positions', 'procedures', 'professional',\n",
       "       'professionals', 'program', 'programmer', 'recruiter',\n",
       "       'recruiting', 'relocation', 'representative', 'research',\n",
       "       'resources', 'retail', 'retired', 'rrp', 'ryan', 'schwan',\n",
       "       'science', 'scottmadden', 'seeking', 'senior', 'service', 'set',\n",
       "       'shine', 'software', 'specialist', 'sphr', 'st', 'staffing',\n",
       "       'state', 'student', 'styczynski', 'success', 'svp', 'systems',\n",
       "       'talent', 'teacher', 'team', 'the', 'them', 'to', 'tobacco',\n",
       "       'travel', 'travelers', 'undergraduate', 'university', 'up',\n",
       "       'victoria', 'wellington', 'western', 'westfield', 'with', 'within',\n",
       "       'woodlands', 'work', 'world'], dtype=object)"
      ]
     },
     "execution_count": 18,
     "metadata": {},
     "output_type": "execute_result"
    }
   ],
   "source": [
    "all_features = tf.get_feature_names_out()\n",
    "all_features"
   ]
  },
  {
   "cell_type": "code",
   "execution_count": 19,
   "id": "c79b92a5",
   "metadata": {},
   "outputs": [
    {
     "name": "stdout",
     "output_type": "stream",
     "text": [
      "2019 3.5745188084776873\n",
      "2020 4.960813169597579\n",
      "2621 4.960813169597579\n",
      "408 4.960813169597579\n",
      "709 4.960813169597579\n",
      "about 4.960813169597579\n",
      "administration 4.960813169597579\n",
      "administrative 4.960813169597579\n",
      "admissions 4.960813169597579\n",
      "advisory 4.044522437723423\n",
      "always 4.960813169597579\n",
      "america 4.555348061489413\n",
      "an 3.8622008809294686\n",
      "analyst 4.960813169597579\n",
      "analytics 4.960813169597579\n",
      "and 2.3217558399823197\n",
      "army 4.960813169597579\n",
      "arts 4.960813169597579\n",
      "aspiring 2.070441411701413\n",
      "assistant 4.960813169597579\n",
      "at 1.8253189536684284\n",
      "atlanta 4.044522437723423\n",
      "bachelor 4.960813169597579\n",
      "bauer 3.5745188084776873\n",
      "bayar 4.044522437723423\n",
      "beach 4.960813169597579\n",
      "benefits 4.960813169597579\n",
      "beneteau 4.960813169597579\n",
      "biology 4.960813169597579\n",
      "board 4.044522437723423\n",
      "brand 4.960813169597579\n",
      "buckhead 4.044522437723423\n",
      "business 3.169053700369523\n",
      "care 4.960813169597579\n",
      "celal 4.044522437723423\n",
      "center 4.960813169597579\n",
      "chapman 4.044522437723423\n",
      "chro 4.044522437723423\n",
      "college 2.9459101490553135\n",
      "communications 4.044522437723423\n",
      "community 4.960813169597579\n",
      "compensation 4.960813169597579\n",
      "conflict 4.960813169597579\n",
      "coordinator 3.256065077359153\n",
      "create 4.960813169597579\n",
      "csr 4.044522437723423\n",
      "cum 3.5745188084776873\n",
      "customer 4.960813169597579\n",
      "data 4.960813169597579\n",
      "delphi 4.960813169597579\n",
      "development 3.70805020110221\n",
      "director 4.267665989037633\n",
      "employment 4.960813169597579\n",
      "endemol 4.960813169597579\n",
      "energetic 4.960813169597579\n",
      "energy 4.044522437723423\n",
      "engaging 4.960813169597579\n",
      "engie 4.044522437723423\n",
      "engineer 4.960813169597579\n",
      "english 3.8622008809294686\n",
      "entry 4.960813169597579\n",
      "environment 4.960813169597579\n",
      "environmental 4.960813169597579\n",
      "epik 3.8622008809294686\n",
      "excellence 4.960813169597579\n",
      "executive 4.960813169597579\n",
      "experienced 4.960813169597579\n",
      "ey 4.960813169597579\n",
      "focused 4.960813169597579\n",
      "for 4.267665989037633\n",
      "from 4.960813169597579\n",
      "generalist 2.9459101490553135\n",
      "gis 4.960813169597579\n",
      "gphr 4.044522437723423\n",
      "graduate 3.5745188084776873\n",
      "graduating 4.960813169597579\n",
      "groupe 4.960813169597579\n",
      "guard 4.960813169597579\n",
      "hardware 4.960813169597579\n",
      "heil 4.960813169597579\n",
      "helping 4.960813169597579\n",
      "houston 4.044522437723423\n",
      "hr 3.70805020110221\n",
      "hris 4.044522437723423\n",
      "human 1.5268259651124318\n",
      "humber 3.5745188084776873\n",
      "illinois 4.960813169597579\n",
      "in 3.256065077359153\n",
      "inc 4.960813169597579\n",
      "inclusive 4.960813169597579\n",
      "indiana 4.960813169597579\n",
      "information 4.555348061489413\n",
      "intelligence 4.960813169597579\n",
      "intercontinental 4.044522437723423\n",
      "international 4.960813169597579\n",
      "internship 4.267665989037633\n",
      "is 4.960813169597579\n",
      "japan 4.960813169597579\n",
      "jti 4.960813169597579\n",
      "junior 4.960813169597579\n",
      "kokomo 4.960813169597579\n",
      "korea 3.8622008809294686\n",
      "lab 4.960813169597579\n",
      "laude 3.5745188084776873\n",
      "lead 4.960813169597579\n",
      "leader 4.555348061489413\n",
      "level 4.960813169597579\n",
      "liberal 4.960813169597579\n",
      "logging 4.960813169597579\n",
      "long 4.960813169597579\n",
      "loparex 4.960813169597579\n",
      "louis 4.960813169597579\n",
      "love 4.960813169597579\n",
      "luxottica 4.960813169597579\n",
      "magna 3.5745188084776873\n",
      "major 4.267665989037633\n",
      "management 3.70805020110221\n",
      "manager 3.5745188084776873\n",
      "marketing 4.044522437723423\n",
      "may 4.960813169597579\n",
      "medical 4.960813169597579\n",
      "member 4.044522437723423\n",
      "mes 4.960813169597579\n",
      "national 4.960813169597579\n",
      "native 3.8622008809294686\n",
      "north 4.555348061489413\n",
      "nortia 4.960813169597579\n",
      "of 3.256065077359153\n",
      "office 4.960813169597579\n",
      "officer 4.044522437723423\n",
      "official 4.960813169597579\n",
      "open 4.960813169597579\n",
      "opportunities 4.044522437723423\n",
      "or 4.960813169597579\n",
      "organization 4.960813169597579\n",
      "paint 4.960813169597579\n",
      "partner 4.960813169597579\n",
      "passionate 4.960813169597579\n",
      "patient 4.960813169597579\n",
      "payroll 4.960813169597579\n",
      "people 3.70805020110221\n",
      "policies 4.960813169597579\n",
      "portfolio 4.960813169597579\n",
      "position 4.267665989037633\n",
      "positions 4.044522437723423\n",
      "procedures 4.960813169597579\n",
      "professional 2.6094379124341005\n",
      "professionals 4.960813169597579\n",
      "program 3.8622008809294686\n",
      "programmer 4.960813169597579\n",
      "recruiter 4.960813169597579\n",
      "recruiting 4.960813169597579\n",
      "relocation 4.960813169597579\n",
      "representative 4.960813169597579\n",
      "research 4.960813169597579\n",
      "resources 1.5268259651124318\n",
      "retail 4.555348061489413\n",
      "retired 4.960813169597579\n",
      "rrp 4.960813169597579\n",
      "ryan 3.70805020110221\n",
      "schwan 4.960813169597579\n",
      "science 4.960813169597579\n",
      "scottmadden 4.960813169597579\n",
      "seeking 2.8813716279177424\n",
      "senior 3.70805020110221\n",
      "service 4.960813169597579\n",
      "set 4.960813169597579\n",
      "shine 4.960813169597579\n",
      "software 4.960813169597579\n",
      "specialist 3.089010992695987\n",
      "sphr 4.044522437723423\n",
      "st 4.960813169597579\n",
      "staffing 4.555348061489413\n",
      "state 4.960813169597579\n",
      "student 2.8207470061013074\n",
      "styczynski 4.960813169597579\n",
      "success 4.960813169597579\n",
      "svp 4.044522437723423\n",
      "systems 4.555348061489413\n",
      "talent 4.960813169597579\n",
      "teacher 3.8622008809294686\n",
      "team 4.960813169597579\n",
      "the 3.8622008809294686\n",
      "them 4.960813169597579\n",
      "to 4.555348061489413\n",
      "tobacco 4.960813169597579\n",
      "travel 4.960813169597579\n",
      "travelers 4.960813169597579\n",
      "undergraduate 4.960813169597579\n",
      "university 3.089010992695987\n",
      "up 4.960813169597579\n",
      "victoria 4.960813169597579\n",
      "wellington 4.960813169597579\n",
      "western 4.960813169597579\n",
      "westfield 4.960813169597579\n",
      "with 4.960813169597579\n",
      "within 4.960813169597579\n",
      "woodlands 4.044522437723423\n",
      "work 4.960813169597579\n",
      "world 4.960813169597579\n"
     ]
    }
   ],
   "source": [
    "for word in all_features:\n",
    "    indx = tf.vocabulary_.get(word)\n",
    "    print(f\"{word} {tf.idf_[indx]}\")"
   ]
  },
  {
   "cell_type": "code",
   "execution_count": 20,
   "id": "5debbedd",
   "metadata": {},
   "outputs": [
    {
     "data": {
      "text/plain": [
       "array([[0.31701856, 0.        , 0.        , 0.        , 0.        ,\n",
       "        0.        , 0.        , 0.        , 0.        , 0.        ,\n",
       "        0.        , 0.        , 0.        , 0.        , 0.        ,\n",
       "        0.20591294, 0.        , 0.        , 0.18362426, 0.        ,\n",
       "        0.        , 0.        , 0.        , 0.31701856, 0.        ,\n",
       "        0.        , 0.        , 0.        , 0.        , 0.        ,\n",
       "        0.        , 0.        , 0.28105849, 0.        , 0.        ,\n",
       "        0.        , 0.        , 0.        , 0.26126823, 0.        ,\n",
       "        0.        , 0.        , 0.        , 0.        , 0.        ,\n",
       "        0.        , 0.31701856, 0.        , 0.        , 0.        ,\n",
       "        0.        , 0.        , 0.        , 0.        , 0.        ,\n",
       "        0.        , 0.        , 0.        , 0.        , 0.        ,\n",
       "        0.        , 0.        , 0.        , 0.        , 0.        ,\n",
       "        0.        , 0.        , 0.        , 0.        , 0.        ,\n",
       "        0.        , 0.        , 0.        , 0.        , 0.31701856,\n",
       "        0.        , 0.        , 0.        , 0.        , 0.        ,\n",
       "        0.        , 0.        , 0.        , 0.        , 0.13541184,\n",
       "        0.        , 0.        , 0.        , 0.        , 0.        ,\n",
       "        0.        , 0.        , 0.        , 0.        , 0.        ,\n",
       "        0.        , 0.        , 0.        , 0.        , 0.        ,\n",
       "        0.        , 0.        , 0.        , 0.31701856, 0.        ,\n",
       "        0.        , 0.        , 0.        , 0.        , 0.        ,\n",
       "        0.        , 0.        , 0.        , 0.        , 0.31701856,\n",
       "        0.        , 0.        , 0.        , 0.        , 0.        ,\n",
       "        0.        , 0.        , 0.        , 0.        , 0.        ,\n",
       "        0.        , 0.        , 0.28877539, 0.        , 0.        ,\n",
       "        0.        , 0.        , 0.        , 0.        , 0.        ,\n",
       "        0.        , 0.        , 0.        , 0.        , 0.        ,\n",
       "        0.        , 0.        , 0.        , 0.        , 0.        ,\n",
       "        0.        , 0.23142702, 0.        , 0.        , 0.        ,\n",
       "        0.        , 0.        , 0.        , 0.        , 0.        ,\n",
       "        0.13541184, 0.        , 0.        , 0.        , 0.        ,\n",
       "        0.        , 0.        , 0.        , 0.        , 0.        ,\n",
       "        0.        , 0.        , 0.        , 0.        , 0.        ,\n",
       "        0.        , 0.        , 0.        , 0.        , 0.        ,\n",
       "        0.        , 0.        , 0.        , 0.        , 0.        ,\n",
       "        0.        , 0.        , 0.        , 0.        , 0.        ,\n",
       "        0.        , 0.        , 0.        , 0.        , 0.        ,\n",
       "        0.        , 0.        , 0.        , 0.        , 0.        ,\n",
       "        0.        , 0.        , 0.        , 0.        , 0.        ],\n",
       "       [0.        , 0.        , 0.        , 0.        , 0.        ,\n",
       "        0.        , 0.        , 0.        , 0.        , 0.        ,\n",
       "        0.        , 0.        , 0.        , 0.        , 0.        ,\n",
       "        0.        , 0.        , 0.        , 0.        , 0.        ,\n",
       "        0.14994756, 0.        , 0.        , 0.        , 0.        ,\n",
       "        0.        , 0.        , 0.        , 0.        , 0.        ,\n",
       "        0.        , 0.        , 0.        , 0.        , 0.        ,\n",
       "        0.        , 0.        , 0.        , 0.        , 0.        ,\n",
       "        0.        , 0.        , 0.        , 0.        , 0.        ,\n",
       "        0.        , 0.        , 0.        , 0.        , 0.        ,\n",
       "        0.        , 0.        , 0.        , 0.        , 0.        ,\n",
       "        0.        , 0.        , 0.        , 0.        , 0.63454949,\n",
       "        0.        , 0.        , 0.        , 0.31727475, 0.        ,\n",
       "        0.        , 0.        , 0.        , 0.        , 0.        ,\n",
       "        0.        , 0.        , 0.        , 0.        , 0.        ,\n",
       "        0.        , 0.        , 0.        , 0.        , 0.        ,\n",
       "        0.        , 0.        , 0.        , 0.        , 0.        ,\n",
       "        0.        , 0.        , 0.26748148, 0.        , 0.        ,\n",
       "        0.        , 0.        , 0.        , 0.        , 0.        ,\n",
       "        0.        , 0.        , 0.        , 0.        , 0.        ,\n",
       "        0.        , 0.31727475, 0.        , 0.        , 0.        ,\n",
       "        0.        , 0.        , 0.        , 0.        , 0.        ,\n",
       "        0.        , 0.        , 0.        , 0.        , 0.        ,\n",
       "        0.        , 0.        , 0.        , 0.        , 0.        ,\n",
       "        0.        , 0.        , 0.        , 0.        , 0.31727475,\n",
       "        0.        , 0.        , 0.        , 0.        , 0.        ,\n",
       "        0.        , 0.        , 0.        , 0.        , 0.        ,\n",
       "        0.        , 0.        , 0.        , 0.        , 0.        ,\n",
       "        0.        , 0.        , 0.        , 0.        , 0.        ,\n",
       "        0.        , 0.        , 0.        , 0.31727475, 0.        ,\n",
       "        0.        , 0.        , 0.        , 0.        , 0.        ,\n",
       "        0.        , 0.        , 0.        , 0.        , 0.        ,\n",
       "        0.        , 0.        , 0.        , 0.        , 0.        ,\n",
       "        0.        , 0.        , 0.        , 0.        , 0.        ,\n",
       "        0.        , 0.        , 0.        , 0.        , 0.        ,\n",
       "        0.        , 0.        , 0.        , 0.        , 0.        ,\n",
       "        0.31727475, 0.        , 0.        , 0.        , 0.        ,\n",
       "        0.        , 0.        , 0.        , 0.        , 0.        ,\n",
       "        0.        , 0.        , 0.        , 0.        , 0.        ,\n",
       "        0.        , 0.        , 0.        , 0.        , 0.        ]])"
      ]
     },
     "execution_count": 20,
     "metadata": {},
     "output_type": "execute_result"
    }
   ],
   "source": [
    "job_title_tf.toarray()[:2]"
   ]
  },
  {
   "cell_type": "code",
   "execution_count": 21,
   "id": "758f1601",
   "metadata": {},
   "outputs": [],
   "source": [
    "seed=1\n",
    "from sklearn.model_selection import train_test_split\n",
    "x_train,x_test,y_train,y_test = train_test_split(data.job_title, data.fit, test_size=0.20, random_state=seed)"
   ]
  },
  {
   "cell_type": "code",
   "execution_count": 22,
   "id": "59993a90",
   "metadata": {},
   "outputs": [],
   "source": [
    "from sklearn.pipeline import Pipeline\n",
    "from xgboost import XGBClassifier\n",
    "from sklearn.ensemble import RandomForestClassifier\n",
    "from sklearn.metrics import classification_report\n",
    "from sklearn.naive_bayes import MultinomialNB\n",
    "clf = Pipeline([\n",
    "    (\"vect\", TfidfVectorizer()),\n",
    "    (\"model\",RandomForestClassifier())\n",
    "])"
   ]
  },
  {
   "cell_type": "code",
   "execution_count": 23,
   "id": "b8dad441",
   "metadata": {},
   "outputs": [
    {
     "name": "stdout",
     "output_type": "stream",
     "text": [
      "              precision    recall  f1-score   support\n",
      "\n",
      "         0.0       1.00      1.00      1.00        10\n",
      "         1.0       1.00      1.00      1.00        11\n",
      "\n",
      "    accuracy                           1.00        21\n",
      "   macro avg       1.00      1.00      1.00        21\n",
      "weighted avg       1.00      1.00      1.00        21\n",
      "\n"
     ]
    }
   ],
   "source": [
    "clf.fit(x_train,y_train)\n",
    "y_pre = clf.predict(x_test)\n",
    "print(classification_report(y_test,y_pre))"
   ]
  },
  {
   "cell_type": "code",
   "execution_count": 24,
   "id": "1f05ab92",
   "metadata": {},
   "outputs": [
    {
     "data": {
      "text/plain": [
       "96    1.0\n",
       "35    1.0\n",
       "81    1.0\n",
       "59    1.0\n",
       "38    1.0\n",
       "39    1.0\n",
       "53    0.0\n",
       "Name: fit, dtype: float64"
      ]
     },
     "execution_count": 24,
     "metadata": {},
     "output_type": "execute_result"
    }
   ],
   "source": [
    "y_test[:7]"
   ]
  },
  {
   "cell_type": "code",
   "execution_count": 25,
   "id": "e9bf90cf",
   "metadata": {},
   "outputs": [
    {
     "data": {
      "text/plain": [
       "array([1., 1., 1., 1., 1., 1., 0.])"
      ]
     },
     "execution_count": 25,
     "metadata": {},
     "output_type": "execute_result"
    }
   ],
   "source": [
    "y_pre[:7]"
   ]
  },
  {
   "cell_type": "code",
   "execution_count": 26,
   "id": "61a0c1d1",
   "metadata": {},
   "outputs": [],
   "source": [
    "ahmad = [\"human\", \"engineer human\"]\n"
   ]
  },
  {
   "cell_type": "code",
   "execution_count": 27,
   "id": "2fe364ad",
   "metadata": {},
   "outputs": [],
   "source": [
    "y_pre = clf.predict(ahmad)"
   ]
  },
  {
   "cell_type": "code",
   "execution_count": 28,
   "id": "03653b0e",
   "metadata": {},
   "outputs": [
    {
     "data": {
      "text/plain": [
       "array([1., 0.])"
      ]
     },
     "execution_count": 28,
     "metadata": {},
     "output_type": "execute_result"
    }
   ],
   "source": [
    "y_pre"
   ]
  },
  {
   "cell_type": "markdown",
   "id": "bc4b2273",
   "metadata": {},
   "source": [
    "# Word2vac"
   ]
  },
  {
   "cell_type": "code",
   "execution_count": 29,
   "id": "b72063fd",
   "metadata": {},
   "outputs": [],
   "source": [
    "import gensim"
   ]
  },
  {
   "cell_type": "code",
   "execution_count": 30,
   "id": "e254eccf",
   "metadata": {},
   "outputs": [
    {
     "data": {
      "text/plain": [
       "0      [bauer, college, of, business, graduate, magna...\n",
       "1      [native, english, teacher, at, epik, english, ...\n",
       "2             [aspiring, human, resources, professional]\n",
       "3           [people, development, coordinator, at, ryan]\n",
       "4      [advisory, board, member, at, celal, bayar, un...\n",
       "                             ...                        \n",
       "99     [aspiring, human, resources, manager, graduati...\n",
       "100          [human, resources, generalist, at, loparex]\n",
       "101    [business, intelligence, and, analytics, at, t...\n",
       "102                [always, set, them, up, for, success]\n",
       "103    [director, of, administration, at, excellence,...\n",
       "Name: job_title, Length: 104, dtype: object"
      ]
     },
     "execution_count": 30,
     "metadata": {},
     "output_type": "execute_result"
    }
   ],
   "source": [
    "preprocessed_titles = job_title.apply(gensim.utils.simple_preprocess)\n",
    "preprocessed_titles"
   ]
  },
  {
   "cell_type": "code",
   "execution_count": 31,
   "id": "e4cd59dc",
   "metadata": {},
   "outputs": [],
   "source": [
    "model = gensim.models.Word2Vec(window=5, min_count=2, workers=4)"
   ]
  },
  {
   "cell_type": "code",
   "execution_count": 32,
   "id": "3c194e4a",
   "metadata": {},
   "outputs": [],
   "source": [
    "model.build_vocab(preprocessed_titles,progress_per=1000)"
   ]
  },
  {
   "cell_type": "code",
   "execution_count": 33,
   "id": "582275fa",
   "metadata": {},
   "outputs": [
    {
     "data": {
      "text/plain": [
       "5"
      ]
     },
     "execution_count": 33,
     "metadata": {},
     "output_type": "execute_result"
    }
   ],
   "source": [
    "model.epochs"
   ]
  },
  {
   "cell_type": "code",
   "execution_count": 34,
   "id": "18cd90bf",
   "metadata": {},
   "outputs": [
    {
     "data": {
      "text/plain": [
       "(992, 3775)"
      ]
     },
     "execution_count": 34,
     "metadata": {},
     "output_type": "execute_result"
    }
   ],
   "source": [
    "model.train(preprocessed_titles,total_examples=model.corpus_count, epochs=5)"
   ]
  },
  {
   "cell_type": "code",
   "execution_count": 35,
   "id": "cbf31fb9",
   "metadata": {},
   "outputs": [],
   "source": [
    "model.save(\"woed2vec\")"
   ]
  },
  {
   "cell_type": "code",
   "execution_count": 36,
   "id": "a2b6e31f",
   "metadata": {},
   "outputs": [
    {
     "data": {
      "text/plain": [
       "[('systems', 0.3124673366546631),\n",
       " ('coordinator', 0.24419854581356049),\n",
       " ('college', 0.22357207536697388),\n",
       " ('staffing', 0.2108517736196518),\n",
       " ('csr', 0.20866097509860992),\n",
       " ('gphr', 0.20733292400836945),\n",
       " ('hr', 0.19480784237384796),\n",
       " ('program', 0.18411137163639069),\n",
       " ('native', 0.1830090433359146),\n",
       " ('officer', 0.1728605031967163)]"
      ]
     },
     "execution_count": 36,
     "metadata": {},
     "output_type": "execute_result"
    }
   ],
   "source": [
    "model.wv.most_similar(\"resources\")"
   ]
  },
  {
   "cell_type": "markdown",
   "id": "dda6f4de",
   "metadata": {},
   "source": [
    "# Word empedding "
   ]
  },
  {
   "cell_type": "code",
   "execution_count": 37,
   "id": "43513f94",
   "metadata": {},
   "outputs": [],
   "source": [
    "import spacy\n",
    "nlp = spacy.load(\"en_core_web_md\")"
   ]
  },
  {
   "cell_type": "code",
   "execution_count": 38,
   "id": "8a692b0e",
   "metadata": {},
   "outputs": [
    {
     "name": "stdout",
     "output_type": "stream",
     "text": [
      "Aspiring vectoer: True OOV: False\n",
      "Human vectoer: True OOV: False\n",
      "Resources vectoer: True OOV: False\n"
     ]
    }
   ],
   "source": [
    "keys = nlp(\"Aspiring Human Resources\")\n",
    "\n",
    "for token in keys:\n",
    "    print(token.text, \"vectoer:\", token.has_vector, \"OOV:\", token.is_oov) #oov: out of vocabulary"
   ]
  },
  {
   "cell_type": "code",
   "execution_count": 96,
   "id": "b9ab2f8d",
   "metadata": {},
   "outputs": [
    {
     "name": "stdout",
     "output_type": "stream",
     "text": [
      "2019 C.T. Bauer College of Business Graduate (Magna Cum Laude) and aspiring Human Resources professional<->Human Resources HR 0.5378415872200849\n",
      "Native English Teacher at EPIK (English Program in Korea)<->Human Resources HR 0.32015701373602984\n",
      "Aspiring Human Resources Professional<->Human Resources HR 0.7653773370353237\n",
      "People Development Coordinator at Ryan<->Human Resources HR 0.3751102920600393\n",
      "Advisory Board Member at Celal Bayar University<->Human Resources HR 0.3525901571905871\n",
      "Aspiring Human Resources Specialist<->Human Resources HR 0.7752092040645733\n",
      "Student at Humber College and Aspiring Human Resources Generalist<->Human Resources HR 0.5487829372662772\n",
      "HR Senior Specialist<->Human Resources HR 0.8586620633857759\n",
      "Student at Humber College and Aspiring Human Resources Generalist<->Human Resources HR 0.5487829372662772\n",
      "Seeking Human Resources HRIS and Generalist Positions<->Human Resources HR 0.8580989050424955\n",
      "Student at Chapman University<->Human Resources HR 0.2847944998840343\n",
      "SVP, CHRO, Marketing & Communications, CSR Officer | ENGIE | Houston | The Woodlands | Energy | GPHR | SPHR<->Human Resources HR 0.4351320056552051\n",
      "Human Resources Coordinator at InterContinental Buckhead Atlanta<->Human Resources HR 0.5171548261043885\n",
      "2019 C.T. Bauer College of Business Graduate (Magna Cum Laude) and aspiring Human Resources professional<->Human Resources HR 0.5378415872200849\n",
      "2019 C.T. Bauer College of Business Graduate (Magna Cum Laude) and aspiring Human Resources professional<->Human Resources HR 0.5378415872200849\n",
      "Native English Teacher at EPIK (English Program in Korea)<->Human Resources HR 0.32015701373602984\n",
      "Aspiring Human Resources Professional<->Human Resources HR 0.7653773370353237\n",
      "People Development Coordinator at Ryan<->Human Resources HR 0.3751102920600393\n",
      "2019 C.T. Bauer College of Business Graduate (Magna Cum Laude) and aspiring Human Resources professional<->Human Resources HR 0.5378415872200849\n",
      "Native English Teacher at EPIK (English Program in Korea)<->Human Resources HR 0.32015701373602984\n",
      "Aspiring Human Resources Professional<->Human Resources HR 0.7653773370353237\n",
      "People Development Coordinator at Ryan<->Human Resources HR 0.3751102920600393\n",
      "Advisory Board Member at Celal Bayar University<->Human Resources HR 0.3525901571905871\n",
      "Aspiring Human Resources Specialist<->Human Resources HR 0.7752092040645733\n",
      "Student at Humber College and Aspiring Human Resources Generalist<->Human Resources HR 0.5487829372662772\n",
      "HR Senior Specialist<->Human Resources HR 0.8586620633857759\n",
      "Aspiring Human Resources Management student seeking an internship<->Human Resources HR 0.5603561579993372\n",
      "Seeking Human Resources Opportunities<->Human Resources HR 0.7294014109433491\n",
      "Aspiring Human Resources Management student seeking an internship<->Human Resources HR 0.5603561579993372\n",
      "Seeking Human Resources Opportunities<->Human Resources HR 0.7294014109433491\n",
      "2019 C.T. Bauer College of Business Graduate (Magna Cum Laude) and aspiring Human Resources professional<->Human Resources HR 0.5378415872200849\n",
      "Native English Teacher at EPIK (English Program in Korea)<->Human Resources HR 0.32015701373602984\n",
      "Aspiring Human Resources Professional<->Human Resources HR 0.7653773370353237\n",
      "People Development Coordinator at Ryan<->Human Resources HR 0.3751102920600393\n",
      "Advisory Board Member at Celal Bayar University<->Human Resources HR 0.3525901571905871\n",
      "Aspiring Human Resources Specialist<->Human Resources HR 0.7752092040645733\n",
      "Student at Humber College and Aspiring Human Resources Generalist<->Human Resources HR 0.5487829372662772\n",
      "HR Senior Specialist<->Human Resources HR 0.8586620633857759\n",
      "Student at Humber College and Aspiring Human Resources Generalist<->Human Resources HR 0.5487829372662772\n",
      "Seeking Human Resources HRIS and Generalist Positions<->Human Resources HR 0.8580989050424955\n",
      "Student at Chapman University<->Human Resources HR 0.2847944998840343\n",
      "SVP, CHRO, Marketing & Communications, CSR Officer | ENGIE | Houston | The Woodlands | Energy | GPHR | SPHR<->Human Resources HR 0.4351320056552051\n",
      "Human Resources Coordinator at InterContinental Buckhead Atlanta<->Human Resources HR 0.5171548261043885\n",
      "2019 C.T. Bauer College of Business Graduate (Magna Cum Laude) and aspiring Human Resources professional<->Human Resources HR 0.5378415872200849\n",
      "Native English Teacher at EPIK (English Program in Korea)<->Human Resources HR 0.32015701373602984\n",
      "Aspiring Human Resources Professional<->Human Resources HR 0.7653773370353237\n",
      "People Development Coordinator at Ryan<->Human Resources HR 0.3751102920600393\n",
      "Advisory Board Member at Celal Bayar University<->Human Resources HR 0.3525901571905871\n",
      "Aspiring Human Resources Specialist<->Human Resources HR 0.7752092040645733\n",
      "Student at Humber College and Aspiring Human Resources Generalist<->Human Resources HR 0.5487829372662772\n",
      "HR Senior Specialist<->Human Resources HR 0.8586620633857759\n",
      "Student at Humber College and Aspiring Human Resources Generalist<->Human Resources HR 0.5487829372662772\n",
      "Seeking Human Resources HRIS and Generalist Positions<->Human Resources HR 0.8580989050424955\n",
      "Student at Chapman University<->Human Resources HR 0.2847944998840343\n",
      "SVP, CHRO, Marketing & Communications, CSR Officer | ENGIE | Houston | The Woodlands | Energy | GPHR | SPHR<->Human Resources HR 0.4351320056552051\n",
      "Human Resources Coordinator at InterContinental Buckhead Atlanta<->Human Resources HR 0.5171548261043885\n",
      "2019 C.T. Bauer College of Business Graduate (Magna Cum Laude) and aspiring Human Resources professional<->Human Resources HR 0.5378415872200849\n",
      "Aspiring Human Resources Professional<->Human Resources HR 0.7653773370353237\n",
      "People Development Coordinator at Ryan<->Human Resources HR 0.3751102920600393\n",
      "Aspiring Human Resources Specialist<->Human Resources HR 0.7752092040645733\n",
      "HR Senior Specialist<->Human Resources HR 0.8586620633857759\n",
      "Seeking Human Resources HRIS and Generalist Positions<->Human Resources HR 0.8580989050424955\n",
      "Student at Chapman University<->Human Resources HR 0.2847944998840343\n",
      "SVP, CHRO, Marketing & Communications, CSR Officer | ENGIE | Houston | The Woodlands | Energy | GPHR | SPHR<->Human Resources HR 0.4351320056552051\n",
      "Human Resources Coordinator at InterContinental Buckhead Atlanta<->Human Resources HR 0.5171548261043885\n",
      "Experienced Retail Manager and aspiring Human Resources Professional<->Human Resources HR 0.7328095508967333\n",
      "Human Resources, Staffing and Recruiting Professional<->Human Resources HR 0.6518940924854152\n",
      "Human Resources Specialist at Luxottica<->Human Resources HR 0.5205251102598331\n",
      "Director of Human Resources North America, Groupe Beneteau<->Human Resources HR 0.5245114188825267\n",
      "Retired Army National Guard Recruiter, office manager,  seeking a position in Human Resources.<->Human Resources HR 0.42083728072229604\n",
      "Human Resources Generalist at ScottMadden, Inc.<->Human Resources HR 0.5283099827861018\n",
      "Business Management Major and Aspiring Human Resources Manager<->Human Resources HR 0.7463047076923343\n",
      "Aspiring Human Resources Manager, seeking internship in Human Resources.<->Human Resources HR 0.6053919851632077\n",
      "Human Resources Professional<->Human Resources HR 0.783410283759218\n",
      "Nortia Staffing is seeking Human Resources, Payroll & Administrative Professionals!!  (408) 709-2621<->Human Resources HR 0.5295572309825768\n",
      "Aspiring Human Resources Professional | Passionate about helping to create an inclusive and engaging work environment<->Human Resources HR 0.4889026954322927\n",
      "Human Resources|\n",
      "Conflict Management|\n",
      "Policies & Procedures|Talent Management|Benefits & Compensation<->Human Resources HR 0.48204380659730883\n",
      "Human Resources Generalist at Schwan's<->Human Resources HR 0.4323263371083756\n",
      "Liberal Arts Major. Aspiring Human Resources Analyst.<->Human Resources HR 0.5293907408958515\n",
      "Junior MES Engineer| Information Systems<->Human Resources HR 0.631305067096044\n",
      "Senior Human Resources Business Partner at Heil Environmental<->Human Resources HR 0.647484438336826\n",
      "Aspiring Human Resources Professional | An energetic and Team-Focused Leader<->Human Resources HR 0.5726722223663441\n",
      "HR Manager at Endemol Shine North America<->Human Resources HR 0.6272909594516184\n",
      "Human Resources professional for the world leader in GIS software<->Human Resources HR 0.4505244245477509\n",
      "RRP Brand Portfolio Executive at JTI (Japan Tobacco International)<->Human Resources HR 0.3723313916017412\n",
      "Information Systems Specialist and Programmer with a love for data and organization.<->Human Resources HR 0.4122223301721774\n",
      "Bachelor of Science in Biology from Victoria University of Wellington<->Human Resources HR 0.2873088446225872\n",
      "Human Resources Management Major<->Human Resources HR 0.7576181656967729\n",
      "Director Human Resources  at EY<->Human Resources HR 0.5525234236255948\n",
      "Undergraduate Research Assistant at Styczynski Lab<->Human Resources HR 0.43967416708652296\n",
      "Lead Official at Western Illinois University<->Human Resources HR 0.35963289007279525\n",
      "Seeking employment opportunities within Customer Service or Patient Care<->Human Resources HR 0.5228699386847674\n",
      "Admissions Representative at Community medical center long beach<->Human Resources HR 0.33111571645807075\n",
      "Seeking Human  Resources Opportunities. Open to travel and relocation.<->Human Resources HR 0.42279683950238917\n",
      "Student at Westfield State University<->Human Resources HR 0.33080879482073117\n",
      "Student at Indiana University Kokomo - Business Management - \n",
      "Retail Manager at Delphi Hardware and Paint<->Human Resources HR 0.48354809511726315\n",
      "Aspiring Human Resources Professional<->Human Resources HR 0.7653773370353237\n",
      "Student<->Human Resources HR 0.5395552884081566\n",
      "Seeking Human Resources Position<->Human Resources HR 0.7235759247947142\n",
      "Aspiring Human Resources Manager | Graduating May 2020 | Seeking an Entry-Level Human Resources Position in St. Louis<->Human Resources HR 0.546473407479412\n",
      "Human Resources Generalist at Loparex<->Human Resources HR 0.5126755038449838\n",
      "Business Intelligence and Analytics at Travelers<->Human Resources HR 0.4500218885847435\n",
      "Always set them up for Success<->Human Resources HR 0.12133814662668921\n",
      "Director Of Administration at Excellence Logging<->Human Resources HR 0.4138060393601886\n"
     ]
    }
   ],
   "source": [
    "for token in tokens:\n",
    "    print(f'{token.text}<->{keys.text}',token.similarity(keys))"
   ]
  },
  {
   "cell_type": "code",
   "execution_count": 52,
   "id": "288dcb6e",
   "metadata": {},
   "outputs": [],
   "source": [
    "job_title= data[\"job_title\"]"
   ]
  },
  {
   "cell_type": "code",
   "execution_count": null,
   "id": "6739a3c0",
   "metadata": {},
   "outputs": [],
   "source": []
  },
  {
   "cell_type": "code",
   "execution_count": 54,
   "id": "81b4d714",
   "metadata": {},
   "outputs": [],
   "source": [
    "tokens = []\n",
    "for i in range(job_title.shape[0]):\n",
    "    arr = nlp(job_title.iloc[i])\n",
    "    tokens.append(arr)\n"
   ]
  },
  {
   "cell_type": "code",
   "execution_count": null,
   "id": "562a5226",
   "metadata": {},
   "outputs": [],
   "source": []
  },
  {
   "cell_type": "code",
   "execution_count": 55,
   "id": "010c3e2c",
   "metadata": {},
   "outputs": [],
   "source": [
    "similarity=[]\n",
    "for i in range(job_title.shape[0]):\n",
    "    arr= tokens[i].similarity(keys)\n",
    "    similarity.append(arr)"
   ]
  },
  {
   "cell_type": "code",
   "execution_count": null,
   "id": "31f58ec1",
   "metadata": {},
   "outputs": [],
   "source": [
    "for token in tokens:\n",
    "    print(f'{token.text} <-> {keys.text}', token.similarity(keys))"
   ]
  },
  {
   "cell_type": "markdown",
   "id": "f83fd1fd",
   "metadata": {},
   "source": [
    "# cosine similarity"
   ]
  },
  {
   "cell_type": "code",
   "execution_count": 57,
   "id": "7d8ee78d",
   "metadata": {},
   "outputs": [],
   "source": [
    "from sklearn.metrics.pairwise import cosine_similarity ,cosine_distances"
   ]
  },
  {
   "cell_type": "code",
   "execution_count": 58,
   "id": "e448fd97",
   "metadata": {},
   "outputs": [],
   "source": [
    "keys = nlp(\"Human Resources HR\")"
   ]
  },
  {
   "cell_type": "code",
   "execution_count": null,
   "id": "e623a6a0",
   "metadata": {},
   "outputs": [],
   "source": []
  },
  {
   "cell_type": "code",
   "execution_count": 59,
   "id": "2c2f35fe",
   "metadata": {},
   "outputs": [],
   "source": [
    "cosin_sim = []\n",
    "for i in range(job_title.shape[0]):\n",
    "    sim = cosine_similarity(tokens[i].vector.reshape(1, -1), keys.vector.reshape(1, -1))\n",
    "    cosin_sim.append(sim)\n"
   ]
  },
  {
   "cell_type": "code",
   "execution_count": 60,
   "id": "6ab5687c",
   "metadata": {},
   "outputs": [],
   "source": [
    "data[\"similarity\"]= cosin_sim"
   ]
  },
  {
   "cell_type": "code",
   "execution_count": 61,
   "id": "b8cfa3dc",
   "metadata": {},
   "outputs": [
    {
     "data": {
      "text/html": [
       "<div>\n",
       "<style scoped>\n",
       "    .dataframe tbody tr th:only-of-type {\n",
       "        vertical-align: middle;\n",
       "    }\n",
       "\n",
       "    .dataframe tbody tr th {\n",
       "        vertical-align: top;\n",
       "    }\n",
       "\n",
       "    .dataframe thead th {\n",
       "        text-align: right;\n",
       "    }\n",
       "</style>\n",
       "<table border=\"1\" class=\"dataframe\">\n",
       "  <thead>\n",
       "    <tr style=\"text-align: right;\">\n",
       "      <th></th>\n",
       "      <th>id</th>\n",
       "      <th>job_title</th>\n",
       "      <th>location</th>\n",
       "      <th>connection</th>\n",
       "      <th>fit</th>\n",
       "      <th>job_title_vec</th>\n",
       "      <th>similarity</th>\n",
       "    </tr>\n",
       "  </thead>\n",
       "  <tbody>\n",
       "    <tr>\n",
       "      <th>0</th>\n",
       "      <td>1</td>\n",
       "      <td>2019 C.T. Bauer College of Business Graduate (...</td>\n",
       "      <td>Houston, Texas</td>\n",
       "      <td>85</td>\n",
       "      <td>1.0</td>\n",
       "      <td>[-1.8883824, -3.1197147, 1.8757412, 1.2693827,...</td>\n",
       "      <td>[[0.5378416]]</td>\n",
       "    </tr>\n",
       "    <tr>\n",
       "      <th>1</th>\n",
       "      <td>2</td>\n",
       "      <td>Native English Teacher at EPIK (English Progra...</td>\n",
       "      <td>Kanada</td>\n",
       "      <td>500+</td>\n",
       "      <td>0.0</td>\n",
       "      <td>[-2.3733625, -3.954522, 2.3252928, 1.4753345, ...</td>\n",
       "      <td>[[0.32015702]]</td>\n",
       "    </tr>\n",
       "    <tr>\n",
       "      <th>2</th>\n",
       "      <td>3</td>\n",
       "      <td>Aspiring Human Resources Professional</td>\n",
       "      <td>Raleigh-Durham, North Carolina Area</td>\n",
       "      <td>44</td>\n",
       "      <td>1.0</td>\n",
       "      <td>[-1.121565, -1.5824499, 0.89269996, -0.6570975...</td>\n",
       "      <td>[[0.7653773]]</td>\n",
       "    </tr>\n",
       "    <tr>\n",
       "      <th>3</th>\n",
       "      <td>4</td>\n",
       "      <td>People Development Coordinator at Ryan</td>\n",
       "      <td>Denton, Texas</td>\n",
       "      <td>500+</td>\n",
       "      <td>0.0</td>\n",
       "      <td>[-0.414018, -2.3088799, -1.2606045, 0.751188, ...</td>\n",
       "      <td>[[0.37511033]]</td>\n",
       "    </tr>\n",
       "    <tr>\n",
       "      <th>4</th>\n",
       "      <td>5</td>\n",
       "      <td>Advisory Board Member at Celal Bayar University</td>\n",
       "      <td>İzmir, Türkiye</td>\n",
       "      <td>500+</td>\n",
       "      <td>0.0</td>\n",
       "      <td>[-1.6404866, -1.4406859, 0.8937308, 0.25696, 0...</td>\n",
       "      <td>[[0.3525902]]</td>\n",
       "    </tr>\n",
       "    <tr>\n",
       "      <th>...</th>\n",
       "      <td>...</td>\n",
       "      <td>...</td>\n",
       "      <td>...</td>\n",
       "      <td>...</td>\n",
       "      <td>...</td>\n",
       "      <td>...</td>\n",
       "      <td>...</td>\n",
       "    </tr>\n",
       "    <tr>\n",
       "      <th>99</th>\n",
       "      <td>100</td>\n",
       "      <td>Aspiring Human Resources Manager | Graduating ...</td>\n",
       "      <td>Cape Girardeau, Missouri</td>\n",
       "      <td>103</td>\n",
       "      <td>1.0</td>\n",
       "      <td>[0.19153328, -3.136853, 2.659192, 1.4459857, 2...</td>\n",
       "      <td>[[0.54647344]]</td>\n",
       "    </tr>\n",
       "    <tr>\n",
       "      <th>100</th>\n",
       "      <td>101</td>\n",
       "      <td>Human Resources Generalist at Loparex</td>\n",
       "      <td>Raleigh-Durham, North Carolina Area</td>\n",
       "      <td>500+</td>\n",
       "      <td>1.0</td>\n",
       "      <td>[-1.0762001, -2.8991761, -1.1778839, 0.2094180...</td>\n",
       "      <td>[[0.5126755]]</td>\n",
       "    </tr>\n",
       "    <tr>\n",
       "      <th>101</th>\n",
       "      <td>102</td>\n",
       "      <td>Business Intelligence and Analytics at Travelers</td>\n",
       "      <td>Greater New York City Area</td>\n",
       "      <td>49</td>\n",
       "      <td>0.0</td>\n",
       "      <td>[-0.02945008, -2.4679286, -1.6339632, 1.630481...</td>\n",
       "      <td>[[0.4500219]]</td>\n",
       "    </tr>\n",
       "    <tr>\n",
       "      <th>102</th>\n",
       "      <td>103</td>\n",
       "      <td>Always set them up for Success</td>\n",
       "      <td>Greater Los Angeles Area</td>\n",
       "      <td>500+</td>\n",
       "      <td>0.0</td>\n",
       "      <td>[-1.805175, 0.41841665, -3.1739433, 3.0301316,...</td>\n",
       "      <td>[[0.12133815]]</td>\n",
       "    </tr>\n",
       "    <tr>\n",
       "      <th>103</th>\n",
       "      <td>104</td>\n",
       "      <td>Director Of Administration at Excellence Logging</td>\n",
       "      <td>Katy, Texas</td>\n",
       "      <td>500+</td>\n",
       "      <td>0.0</td>\n",
       "      <td>[0.17022501, -4.6638336, 0.57790506, 2.1279285...</td>\n",
       "      <td>[[0.41380605]]</td>\n",
       "    </tr>\n",
       "  </tbody>\n",
       "</table>\n",
       "<p>104 rows × 7 columns</p>\n",
       "</div>"
      ],
      "text/plain": [
       "      id                                          job_title  \\\n",
       "0      1  2019 C.T. Bauer College of Business Graduate (...   \n",
       "1      2  Native English Teacher at EPIK (English Progra...   \n",
       "2      3              Aspiring Human Resources Professional   \n",
       "3      4             People Development Coordinator at Ryan   \n",
       "4      5    Advisory Board Member at Celal Bayar University   \n",
       "..   ...                                                ...   \n",
       "99   100  Aspiring Human Resources Manager | Graduating ...   \n",
       "100  101              Human Resources Generalist at Loparex   \n",
       "101  102   Business Intelligence and Analytics at Travelers   \n",
       "102  103                     Always set them up for Success   \n",
       "103  104   Director Of Administration at Excellence Logging   \n",
       "\n",
       "                                location connection  fit  \\\n",
       "0                         Houston, Texas         85  1.0   \n",
       "1                                 Kanada      500+   0.0   \n",
       "2    Raleigh-Durham, North Carolina Area         44  1.0   \n",
       "3                          Denton, Texas      500+   0.0   \n",
       "4                         İzmir, Türkiye      500+   0.0   \n",
       "..                                   ...        ...  ...   \n",
       "99              Cape Girardeau, Missouri        103  1.0   \n",
       "100  Raleigh-Durham, North Carolina Area      500+   1.0   \n",
       "101           Greater New York City Area         49  0.0   \n",
       "102             Greater Los Angeles Area      500+   0.0   \n",
       "103                          Katy, Texas      500+   0.0   \n",
       "\n",
       "                                         job_title_vec      similarity  \n",
       "0    [-1.8883824, -3.1197147, 1.8757412, 1.2693827,...   [[0.5378416]]  \n",
       "1    [-2.3733625, -3.954522, 2.3252928, 1.4753345, ...  [[0.32015702]]  \n",
       "2    [-1.121565, -1.5824499, 0.89269996, -0.6570975...   [[0.7653773]]  \n",
       "3    [-0.414018, -2.3088799, -1.2606045, 0.751188, ...  [[0.37511033]]  \n",
       "4    [-1.6404866, -1.4406859, 0.8937308, 0.25696, 0...   [[0.3525902]]  \n",
       "..                                                 ...             ...  \n",
       "99   [0.19153328, -3.136853, 2.659192, 1.4459857, 2...  [[0.54647344]]  \n",
       "100  [-1.0762001, -2.8991761, -1.1778839, 0.2094180...   [[0.5126755]]  \n",
       "101  [-0.02945008, -2.4679286, -1.6339632, 1.630481...   [[0.4500219]]  \n",
       "102  [-1.805175, 0.41841665, -3.1739433, 3.0301316,...  [[0.12133815]]  \n",
       "103  [0.17022501, -4.6638336, 0.57790506, 2.1279285...  [[0.41380605]]  \n",
       "\n",
       "[104 rows x 7 columns]"
      ]
     },
     "execution_count": 61,
     "metadata": {},
     "output_type": "execute_result"
    }
   ],
   "source": [
    "data"
   ]
  },
  {
   "cell_type": "code",
   "execution_count": 62,
   "id": "c21f2737",
   "metadata": {},
   "outputs": [],
   "source": [
    "data[\"job_title_vec\"] = data[\"job_title\"].apply(lambda x: nlp(x).vector)"
   ]
  },
  {
   "cell_type": "code",
   "execution_count": 63,
   "id": "b1d69cdf",
   "metadata": {},
   "outputs": [],
   "source": [
    "data['fit'] = data['similarity'].apply(lambda x: 1 if x >= 0.5 else 0)"
   ]
  },
  {
   "cell_type": "code",
   "execution_count": null,
   "id": "e76404c7",
   "metadata": {},
   "outputs": [],
   "source": []
  },
  {
   "cell_type": "code",
   "execution_count": 64,
   "id": "8b4f2131",
   "metadata": {},
   "outputs": [],
   "source": [
    "features =data[['similarity',\"job_title_vec\"]]"
   ]
  },
  {
   "cell_type": "code",
   "execution_count": 65,
   "id": "38db8c0b",
   "metadata": {},
   "outputs": [],
   "source": [
    "target =data[\"fit\"]"
   ]
  },
  {
   "cell_type": "code",
   "execution_count": 66,
   "id": "6215d523",
   "metadata": {},
   "outputs": [],
   "source": [
    "x_train,x_test,y_train,y_test = train_test_split(features, target, test_size=0.20, random_state=seed)"
   ]
  },
  {
   "cell_type": "code",
   "execution_count": 67,
   "id": "2bd97410",
   "metadata": {},
   "outputs": [],
   "source": [
    "from sklearn.ensemble import RandomForestClassifier\n",
    "model = RandomForestClassifier()"
   ]
  },
  {
   "cell_type": "code",
   "execution_count": 68,
   "id": "884481a4",
   "metadata": {},
   "outputs": [],
   "source": [
    "x_train_2d= np.stack(x_train[\"job_title_vec\"])\n",
    "x_test_2d=np.stack(x_test[\"job_title_vec\"])"
   ]
  },
  {
   "cell_type": "code",
   "execution_count": 69,
   "id": "ff959557",
   "metadata": {},
   "outputs": [
    {
     "data": {
      "text/plain": [
       "RandomForestClassifier()"
      ]
     },
     "execution_count": 69,
     "metadata": {},
     "output_type": "execute_result"
    }
   ],
   "source": [
    "model.fit(x_train_2d,y_train)"
   ]
  },
  {
   "cell_type": "code",
   "execution_count": 70,
   "id": "bd41f490",
   "metadata": {},
   "outputs": [],
   "source": [
    "y_pre=model.predict(x_test_2d)"
   ]
  },
  {
   "cell_type": "code",
   "execution_count": 71,
   "id": "6bee4b53",
   "metadata": {},
   "outputs": [],
   "source": [
    "from sklearn.metrics import classification_report\n",
    "clf_rep= classification_report(y_pre,y_test)"
   ]
  },
  {
   "cell_type": "code",
   "execution_count": 72,
   "id": "c444b114",
   "metadata": {},
   "outputs": [
    {
     "name": "stdout",
     "output_type": "stream",
     "text": [
      "              precision    recall  f1-score   support\n",
      "\n",
      "           0       1.00      0.90      0.95        10\n",
      "           1       0.92      1.00      0.96        11\n",
      "\n",
      "    accuracy                           0.95        21\n",
      "   macro avg       0.96      0.95      0.95        21\n",
      "weighted avg       0.96      0.95      0.95        21\n",
      "\n"
     ]
    }
   ],
   "source": [
    "print(clf_rep)"
   ]
  },
  {
   "cell_type": "markdown",
   "id": "a468adaf",
   "metadata": {},
   "source": [
    "# word vectors in gensim"
   ]
  },
  {
   "cell_type": "code",
   "execution_count": 73,
   "id": "4bdba3a8",
   "metadata": {},
   "outputs": [],
   "source": [
    "import gensim.downloader as api"
   ]
  },
  {
   "cell_type": "code",
   "execution_count": 80,
   "id": "3e90bef6",
   "metadata": {},
   "outputs": [],
   "source": [
    "data=pd.read_csv(\"C:/Users/97155/Downloads/potential-talents - Aspiring human resources - seeking human resources.csv\")"
   ]
  },
  {
   "cell_type": "code",
   "execution_count": 74,
   "id": "4a1a2351",
   "metadata": {},
   "outputs": [],
   "source": [
    "wv = api.load(\"word2vec-google-news-300\")"
   ]
  },
  {
   "cell_type": "code",
   "execution_count": 78,
   "id": "a63643d0",
   "metadata": {},
   "outputs": [],
   "source": [
    "\n",
    "nlp = spacy.load(\"en_core_web_md\")\n",
    "def preprocess_and_vectorize(text):\n",
    "    doc = nlp(text)\n",
    "    filtered = []\n",
    "    for token in doc:\n",
    "        if token.is_punct or token.is_stop:\n",
    "            continue\n",
    "        filtered.append(token.lemma_)\n",
    "    \n",
    "    vectors = [nlp(word).vector for word in filtered]\n",
    "    if vectors:\n",
    "        mean_vector = np.mean(vectors, axis=0)\n",
    "    else:\n",
    "        mean_vector = np.zeros(nlp.vocab.vectors.shape[1])\n",
    "    \n",
    "    return mean_vector"
   ]
  },
  {
   "cell_type": "code",
   "execution_count": 132,
   "id": "6d25596c",
   "metadata": {},
   "outputs": [],
   "source": [
    "doc = nlp(key)\n",
    "filtered = []\n",
    "for token in doc:\n",
    "    if token.is_punct or token.is_stop:\n",
    "        continue\n",
    "    filtered.append(token.lemma_)"
   ]
  },
  {
   "cell_type": "code",
   "execution_count": 133,
   "id": "56c14f8e",
   "metadata": {},
   "outputs": [
    {
     "data": {
      "text/plain": [
       "['Human', 'Resources', 'HR']"
      ]
     },
     "execution_count": 133,
     "metadata": {},
     "output_type": "execute_result"
    }
   ],
   "source": [
    "filtered"
   ]
  },
  {
   "cell_type": "code",
   "execution_count": 109,
   "id": "3329882b",
   "metadata": {},
   "outputs": [],
   "source": [
    "data[\"vector\"]= data[\"job_title\"].apply(lambda x: preprocess_and_vectorize(x))"
   ]
  },
  {
   "cell_type": "code",
   "execution_count": 110,
   "id": "b5f32e67",
   "metadata": {},
   "outputs": [],
   "source": [
    "key=\"Human Resources HR\""
   ]
  },
  {
   "cell_type": "code",
   "execution_count": 111,
   "id": "46d99e23",
   "metadata": {},
   "outputs": [],
   "source": [
    "key_ward=preprocess_and_vectorize(key)"
   ]
  },
  {
   "cell_type": "code",
   "execution_count": 112,
   "id": "70f672cc",
   "metadata": {},
   "outputs": [],
   "source": [
    "cosin_sim = []\n",
    "for i in range(job_title.shape[0]):\n",
    "    sim = cosine_similarity(data[\"vector\"][i].reshape(1, -1),key_ward.reshape(1, -1))\n",
    "    cosin_sim.append(sim)\n"
   ]
  },
  {
   "cell_type": "code",
   "execution_count": 113,
   "id": "00c44cc2",
   "metadata": {},
   "outputs": [],
   "source": [
    "data[\"similarity\"]=cosin_sim"
   ]
  },
  {
   "cell_type": "code",
   "execution_count": 119,
   "id": "cec45e8c",
   "metadata": {},
   "outputs": [
    {
     "data": {
      "text/html": [
       "<div>\n",
       "<style scoped>\n",
       "    .dataframe tbody tr th:only-of-type {\n",
       "        vertical-align: middle;\n",
       "    }\n",
       "\n",
       "    .dataframe tbody tr th {\n",
       "        vertical-align: top;\n",
       "    }\n",
       "\n",
       "    .dataframe thead th {\n",
       "        text-align: right;\n",
       "    }\n",
       "</style>\n",
       "<table border=\"1\" class=\"dataframe\">\n",
       "  <thead>\n",
       "    <tr style=\"text-align: right;\">\n",
       "      <th></th>\n",
       "      <th>id</th>\n",
       "      <th>job_title</th>\n",
       "      <th>location</th>\n",
       "      <th>connection</th>\n",
       "      <th>fit</th>\n",
       "      <th>vector</th>\n",
       "      <th>similarity</th>\n",
       "    </tr>\n",
       "  </thead>\n",
       "  <tbody>\n",
       "    <tr>\n",
       "      <th>0</th>\n",
       "      <td>1</td>\n",
       "      <td>2019 C.T. Bauer College of Business Graduate (...</td>\n",
       "      <td>Houston, Texas</td>\n",
       "      <td>85</td>\n",
       "      <td>1</td>\n",
       "      <td>[-0.02120758, -1.6550734, 0.9576593, 0.9891001...</td>\n",
       "      <td>[[0.6072153]]</td>\n",
       "    </tr>\n",
       "    <tr>\n",
       "      <th>1</th>\n",
       "      <td>2</td>\n",
       "      <td>Native English Teacher at EPIK (English Progra...</td>\n",
       "      <td>Kanada</td>\n",
       "      <td>500+</td>\n",
       "      <td>0</td>\n",
       "      <td>[-1.3577785, -2.4673958, 1.4322058, 1.3633429,...</td>\n",
       "      <td>[[0.3882938]]</td>\n",
       "    </tr>\n",
       "    <tr>\n",
       "      <th>2</th>\n",
       "      <td>3</td>\n",
       "      <td>Aspiring Human Resources Professional</td>\n",
       "      <td>Raleigh-Durham, North Carolina Area</td>\n",
       "      <td>44</td>\n",
       "      <td>1</td>\n",
       "      <td>[-1.121565, -1.5824499, 0.89269996, -0.6570975...</td>\n",
       "      <td>[[0.7653773]]</td>\n",
       "    </tr>\n",
       "    <tr>\n",
       "      <th>3</th>\n",
       "      <td>4</td>\n",
       "      <td>People Development Coordinator at Ryan</td>\n",
       "      <td>Denton, Texas</td>\n",
       "      <td>500+</td>\n",
       "      <td>0</td>\n",
       "      <td>[-1.4700725, -0.962675, 0.8306445, 1.102165, -...</td>\n",
       "      <td>[[0.55128133]]</td>\n",
       "    </tr>\n",
       "    <tr>\n",
       "      <th>4</th>\n",
       "      <td>5</td>\n",
       "      <td>Advisory Board Member at Celal Bayar University</td>\n",
       "      <td>İzmir, Türkiye</td>\n",
       "      <td>500+</td>\n",
       "      <td>0</td>\n",
       "      <td>[-2.5489342, -0.39851665, 2.6469526, 0.4085733...</td>\n",
       "      <td>[[0.42609465]]</td>\n",
       "    </tr>\n",
       "    <tr>\n",
       "      <th>...</th>\n",
       "      <td>...</td>\n",
       "      <td>...</td>\n",
       "      <td>...</td>\n",
       "      <td>...</td>\n",
       "      <td>...</td>\n",
       "      <td>...</td>\n",
       "      <td>...</td>\n",
       "    </tr>\n",
       "    <tr>\n",
       "      <th>99</th>\n",
       "      <td>100</td>\n",
       "      <td>Aspiring Human Resources Manager | Graduating ...</td>\n",
       "      <td>Cape Girardeau, Missouri</td>\n",
       "      <td>103</td>\n",
       "      <td>1</td>\n",
       "      <td>[0.43837935, -4.067801, 2.8288026, 1.1667663, ...</td>\n",
       "      <td>[[0.6048552]]</td>\n",
       "    </tr>\n",
       "    <tr>\n",
       "      <th>100</th>\n",
       "      <td>101</td>\n",
       "      <td>Human Resources Generalist at Loparex</td>\n",
       "      <td>Raleigh-Durham, North Carolina Area</td>\n",
       "      <td>500+</td>\n",
       "      <td>1</td>\n",
       "      <td>[-2.2978, -1.700545, 0.934045, 0.4249525, 0.63...</td>\n",
       "      <td>[[0.7184749]]</td>\n",
       "    </tr>\n",
       "    <tr>\n",
       "      <th>101</th>\n",
       "      <td>102</td>\n",
       "      <td>Business Intelligence and Analytics at Travelers</td>\n",
       "      <td>Greater New York City Area</td>\n",
       "      <td>49</td>\n",
       "      <td>1</td>\n",
       "      <td>[0.13548999, -0.8079925, 0.8790801, 1.7319751,...</td>\n",
       "      <td>[[0.6309317]]</td>\n",
       "    </tr>\n",
       "    <tr>\n",
       "      <th>102</th>\n",
       "      <td>103</td>\n",
       "      <td>Always set them up for Success</td>\n",
       "      <td>Greater Los Angeles Area</td>\n",
       "      <td>500+</td>\n",
       "      <td>0</td>\n",
       "      <td>[-2.80491, 1.080565, -1.296145, 0.328225, 0.91...</td>\n",
       "      <td>[[0.16266294]]</td>\n",
       "    </tr>\n",
       "    <tr>\n",
       "      <th>103</th>\n",
       "      <td>104</td>\n",
       "      <td>Director Of Administration at Excellence Logging</td>\n",
       "      <td>Katy, Texas</td>\n",
       "      <td>500+</td>\n",
       "      <td>0</td>\n",
       "      <td>[0.2996375, -3.663, 2.3311825, 1.9852725, 0.18...</td>\n",
       "      <td>[[0.5883906]]</td>\n",
       "    </tr>\n",
       "  </tbody>\n",
       "</table>\n",
       "<p>104 rows × 7 columns</p>\n",
       "</div>"
      ],
      "text/plain": [
       "      id                                          job_title  \\\n",
       "0      1  2019 C.T. Bauer College of Business Graduate (...   \n",
       "1      2  Native English Teacher at EPIK (English Progra...   \n",
       "2      3              Aspiring Human Resources Professional   \n",
       "3      4             People Development Coordinator at Ryan   \n",
       "4      5    Advisory Board Member at Celal Bayar University   \n",
       "..   ...                                                ...   \n",
       "99   100  Aspiring Human Resources Manager | Graduating ...   \n",
       "100  101              Human Resources Generalist at Loparex   \n",
       "101  102   Business Intelligence and Analytics at Travelers   \n",
       "102  103                     Always set them up for Success   \n",
       "103  104   Director Of Administration at Excellence Logging   \n",
       "\n",
       "                                location connection  fit  \\\n",
       "0                         Houston, Texas         85    1   \n",
       "1                                 Kanada      500+     0   \n",
       "2    Raleigh-Durham, North Carolina Area         44    1   \n",
       "3                          Denton, Texas      500+     0   \n",
       "4                         İzmir, Türkiye      500+     0   \n",
       "..                                   ...        ...  ...   \n",
       "99              Cape Girardeau, Missouri        103    1   \n",
       "100  Raleigh-Durham, North Carolina Area      500+     1   \n",
       "101           Greater New York City Area         49    1   \n",
       "102             Greater Los Angeles Area      500+     0   \n",
       "103                          Katy, Texas      500+     0   \n",
       "\n",
       "                                                vector      similarity  \n",
       "0    [-0.02120758, -1.6550734, 0.9576593, 0.9891001...   [[0.6072153]]  \n",
       "1    [-1.3577785, -2.4673958, 1.4322058, 1.3633429,...   [[0.3882938]]  \n",
       "2    [-1.121565, -1.5824499, 0.89269996, -0.6570975...   [[0.7653773]]  \n",
       "3    [-1.4700725, -0.962675, 0.8306445, 1.102165, -...  [[0.55128133]]  \n",
       "4    [-2.5489342, -0.39851665, 2.6469526, 0.4085733...  [[0.42609465]]  \n",
       "..                                                 ...             ...  \n",
       "99   [0.43837935, -4.067801, 2.8288026, 1.1667663, ...   [[0.6048552]]  \n",
       "100  [-2.2978, -1.700545, 0.934045, 0.4249525, 0.63...   [[0.7184749]]  \n",
       "101  [0.13548999, -0.8079925, 0.8790801, 1.7319751,...   [[0.6309317]]  \n",
       "102  [-2.80491, 1.080565, -1.296145, 0.328225, 0.91...  [[0.16266294]]  \n",
       "103  [0.2996375, -3.663, 2.3311825, 1.9852725, 0.18...   [[0.5883906]]  \n",
       "\n",
       "[104 rows x 7 columns]"
      ]
     },
     "execution_count": 119,
     "metadata": {},
     "output_type": "execute_result"
    }
   ],
   "source": [
    "data"
   ]
  },
  {
   "cell_type": "code",
   "execution_count": 100,
   "id": "2851c669",
   "metadata": {},
   "outputs": [],
   "source": [
    "data['fit'] = data['similarity'].apply(lambda x: 1 if x >= 0.6 else 0)"
   ]
  },
  {
   "cell_type": "code",
   "execution_count": 120,
   "id": "03f8c055",
   "metadata": {},
   "outputs": [],
   "source": [
    "x_train,x_test,y_train,y_test = train_test_split(data.vector, data.fit, test_size=0.20, random_state=seed)"
   ]
  },
  {
   "cell_type": "code",
   "execution_count": 121,
   "id": "ae76cbea",
   "metadata": {},
   "outputs": [
    {
     "data": {
      "text/plain": [
       "82    [0.083848305, -1.0936135, 1.1138532, 1.3832684...\n",
       "66    [-0.51526195, -1.11868, 0.113520026, 0.551174,...\n",
       "44    [-1.3577785, -2.4673958, 1.4322058, 1.3633429,...\n",
       "42    [-1.6860334, -1.4231333, 0.82883, 0.4365183, 1...\n",
       "40    [-0.21705396, -1.3085687, 0.7400333, 0.12965, ...\n",
       "                            ...                        \n",
       "75    [0.52815914, -1.7491531, -0.9956584, -1.033295...\n",
       "9     [-1.0868, -0.6150333, 0.2142684, 1.374375, 2.2...\n",
       "72    [-0.27208126, -1.006295, 0.3883125, -0.779805,...\n",
       "12    [-1.6860334, -1.4231333, 0.82883, 0.4365183, 1...\n",
       "37    [1.1505734, -2.2, 1.95001, 1.8100666, 0.996463...\n",
       "Name: vector, Length: 83, dtype: object"
      ]
     },
     "execution_count": 121,
     "metadata": {},
     "output_type": "execute_result"
    }
   ],
   "source": [
    "x_train"
   ]
  },
  {
   "cell_type": "code",
   "execution_count": 122,
   "id": "ef76a903",
   "metadata": {},
   "outputs": [],
   "source": [
    "x_train_2d= np.stack(x_train)\n",
    "x_test_2d=np.stack(x_test)"
   ]
  },
  {
   "cell_type": "code",
   "execution_count": 123,
   "id": "310a7e51",
   "metadata": {},
   "outputs": [
    {
     "data": {
      "text/plain": [
       "array([[ 0.08384831, -1.0936135 ,  1.1138532 , ..., -2.9220102 ,\n",
       "        -0.5548433 ,  3.3456383 ],\n",
       "       [-0.51526195, -1.11868   ,  0.11352003, ..., -3.8870778 ,\n",
       "         0.08165202,  2.1212866 ],\n",
       "       [-1.3577785 , -2.4673958 ,  1.4322058 , ..., -1.6298573 ,\n",
       "        -1.894428  ,  2.6255171 ],\n",
       "       ...,\n",
       "       [-0.27208126, -1.006295  ,  0.3883125 , ..., -3.4265542 ,\n",
       "         0.25727627,  1.3980795 ],\n",
       "       [-1.6860334 , -1.4231333 ,  0.82883   , ..., -3.47159   ,\n",
       "         0.39238492,  0.4536178 ],\n",
       "       [ 1.1505734 , -2.2       ,  1.95001   , ..., -4.812267  ,\n",
       "         2.2172    ,  5.320667  ]], dtype=float32)"
      ]
     },
     "execution_count": 123,
     "metadata": {},
     "output_type": "execute_result"
    }
   ],
   "source": [
    "x_train_2d"
   ]
  },
  {
   "cell_type": "code",
   "execution_count": 124,
   "id": "d5da61c9",
   "metadata": {},
   "outputs": [
    {
     "data": {
      "text/plain": [
       "XGBClassifier(base_score=None, booster=None, callbacks=None,\n",
       "              colsample_bylevel=None, colsample_bynode=None,\n",
       "              colsample_bytree=None, early_stopping_rounds=None,\n",
       "              enable_categorical=False, eval_metric=None, feature_types=None,\n",
       "              gamma=None, gpu_id=None, grow_policy=None, importance_type=None,\n",
       "              interaction_constraints=None, learning_rate=None, max_bin=None,\n",
       "              max_cat_threshold=None, max_cat_to_onehot=None,\n",
       "              max_delta_step=None, max_depth=None, max_leaves=None,\n",
       "              min_child_weight=None, missing=nan, monotone_constraints=None,\n",
       "              n_estimators=100, n_jobs=None, num_parallel_tree=None,\n",
       "              predictor=None, random_state=None, ...)"
      ]
     },
     "execution_count": 124,
     "metadata": {},
     "output_type": "execute_result"
    }
   ],
   "source": [
    "from xgboost import XGBClassifier\n",
    "model = XGBClassifier()\n",
    "model.fit(x_train_2d,y_train)"
   ]
  },
  {
   "cell_type": "code",
   "execution_count": 125,
   "id": "5c3dc98a",
   "metadata": {},
   "outputs": [],
   "source": [
    "y_red=model.predict(x_test_2d)"
   ]
  },
  {
   "cell_type": "code",
   "execution_count": 126,
   "id": "ab8c718c",
   "metadata": {},
   "outputs": [
    {
     "name": "stdout",
     "output_type": "stream",
     "text": [
      "              precision    recall  f1-score   support\n",
      "\n",
      "           0       0.78      1.00      0.88         7\n",
      "           1       1.00      0.86      0.92        14\n",
      "\n",
      "    accuracy                           0.90        21\n",
      "   macro avg       0.89      0.93      0.90        21\n",
      "weighted avg       0.93      0.90      0.91        21\n",
      "\n"
     ]
    }
   ],
   "source": [
    "print(classification_report(y_red,y_test))"
   ]
  },
  {
   "cell_type": "code",
   "execution_count": 127,
   "id": "01e969d8",
   "metadata": {},
   "outputs": [
    {
     "data": {
      "text/plain": [
       "RandomForestClassifier()"
      ]
     },
     "execution_count": 127,
     "metadata": {},
     "output_type": "execute_result"
    }
   ],
   "source": [
    "model_2 = RandomForestClassifier()\n",
    "model_2.fit(x_train_2d,y_train)"
   ]
  },
  {
   "cell_type": "code",
   "execution_count": 129,
   "id": "4ab27d8b",
   "metadata": {},
   "outputs": [
    {
     "name": "stdout",
     "output_type": "stream",
     "text": [
      "              precision    recall  f1-score   support\n",
      "\n",
      "           0       0.89      1.00      0.94         8\n",
      "           1       1.00      0.92      0.96        13\n",
      "\n",
      "    accuracy                           0.95        21\n",
      "   macro avg       0.94      0.96      0.95        21\n",
      "weighted avg       0.96      0.95      0.95        21\n",
      "\n"
     ]
    }
   ],
   "source": [
    "y_red=model_2.predict(x_test_2d)\n",
    "print(classification_report(y_red,y_test))"
   ]
  },
  {
   "cell_type": "markdown",
   "id": "f236bcb4",
   "metadata": {},
   "source": [
    "# Re-ranking"
   ]
  },
  {
   "cell_type": "code",
   "execution_count": 194,
   "id": "a2fdaadb",
   "metadata": {},
   "outputs": [],
   "source": [
    "ranked_candidates = data.sort_values(by='similarity', ascending=False)"
   ]
  },
  {
   "cell_type": "code",
   "execution_count": 195,
   "id": "d8865993",
   "metadata": {},
   "outputs": [
    {
     "data": {
      "text/html": [
       "<div>\n",
       "<style scoped>\n",
       "    .dataframe tbody tr th:only-of-type {\n",
       "        vertical-align: middle;\n",
       "    }\n",
       "\n",
       "    .dataframe tbody tr th {\n",
       "        vertical-align: top;\n",
       "    }\n",
       "\n",
       "    .dataframe thead th {\n",
       "        text-align: right;\n",
       "    }\n",
       "</style>\n",
       "<table border=\"1\" class=\"dataframe\">\n",
       "  <thead>\n",
       "    <tr style=\"text-align: right;\">\n",
       "      <th></th>\n",
       "      <th>id</th>\n",
       "      <th>job_title</th>\n",
       "      <th>location</th>\n",
       "      <th>connection</th>\n",
       "      <th>fit</th>\n",
       "      <th>vector</th>\n",
       "      <th>similarity</th>\n",
       "    </tr>\n",
       "  </thead>\n",
       "  <tbody>\n",
       "    <tr>\n",
       "      <th>52</th>\n",
       "      <td>53</td>\n",
       "      <td>Seeking Human Resources HRIS and Generalist Po...</td>\n",
       "      <td>Greater Philadelphia Area</td>\n",
       "      <td>500+</td>\n",
       "      <td>1</td>\n",
       "      <td>[-1.0868, -0.6150333, 0.2142684, 1.374375, 2.2...</td>\n",
       "      <td>[[0.89972734]]</td>\n",
       "    </tr>\n",
       "    <tr>\n",
       "      <th>61</th>\n",
       "      <td>62</td>\n",
       "      <td>Seeking Human Resources HRIS and Generalist Po...</td>\n",
       "      <td>Greater Philadelphia Area</td>\n",
       "      <td>500+</td>\n",
       "      <td>1</td>\n",
       "      <td>[-1.0868, -0.6150333, 0.2142684, 1.374375, 2.2...</td>\n",
       "      <td>[[0.89972734]]</td>\n",
       "    </tr>\n",
       "    <tr>\n",
       "      <th>39</th>\n",
       "      <td>40</td>\n",
       "      <td>Seeking Human Resources HRIS and Generalist Po...</td>\n",
       "      <td>Greater Philadelphia Area</td>\n",
       "      <td>500+</td>\n",
       "      <td>1</td>\n",
       "      <td>[-1.0868, -0.6150333, 0.2142684, 1.374375, 2.2...</td>\n",
       "      <td>[[0.89972734]]</td>\n",
       "    </tr>\n",
       "    <tr>\n",
       "      <th>9</th>\n",
       "      <td>10</td>\n",
       "      <td>Seeking Human Resources HRIS and Generalist Po...</td>\n",
       "      <td>Greater Philadelphia Area</td>\n",
       "      <td>500+</td>\n",
       "      <td>1</td>\n",
       "      <td>[-1.0868, -0.6150333, 0.2142684, 1.374375, 2.2...</td>\n",
       "      <td>[[0.89972734]]</td>\n",
       "    </tr>\n",
       "    <tr>\n",
       "      <th>7</th>\n",
       "      <td>8</td>\n",
       "      <td>HR Senior Specialist</td>\n",
       "      <td>San Francisco Bay Area</td>\n",
       "      <td>500+</td>\n",
       "      <td>1</td>\n",
       "      <td>[1.1505734, -2.2, 1.95001, 1.8100666, 0.996463...</td>\n",
       "      <td>[[0.85866195]]</td>\n",
       "    </tr>\n",
       "    <tr>\n",
       "      <th>...</th>\n",
       "      <td>...</td>\n",
       "      <td>...</td>\n",
       "      <td>...</td>\n",
       "      <td>...</td>\n",
       "      <td>...</td>\n",
       "      <td>...</td>\n",
       "      <td>...</td>\n",
       "    </tr>\n",
       "    <tr>\n",
       "      <th>10</th>\n",
       "      <td>11</td>\n",
       "      <td>Student at Chapman University</td>\n",
       "      <td>Lake Forest, California</td>\n",
       "      <td>2</td>\n",
       "      <td>0</td>\n",
       "      <td>[-0.21705396, -1.3085687, 0.7400333, 0.12965, ...</td>\n",
       "      <td>[[0.36025453]]</td>\n",
       "    </tr>\n",
       "    <tr>\n",
       "      <th>62</th>\n",
       "      <td>63</td>\n",
       "      <td>Student at Chapman University</td>\n",
       "      <td>Lake Forest, California</td>\n",
       "      <td>2</td>\n",
       "      <td>0</td>\n",
       "      <td>[-0.21705396, -1.3085687, 0.7400333, 0.12965, ...</td>\n",
       "      <td>[[0.36025453]]</td>\n",
       "    </tr>\n",
       "    <tr>\n",
       "      <th>40</th>\n",
       "      <td>41</td>\n",
       "      <td>Student at Chapman University</td>\n",
       "      <td>Lake Forest, California</td>\n",
       "      <td>2</td>\n",
       "      <td>0</td>\n",
       "      <td>[-0.21705396, -1.3085687, 0.7400333, 0.12965, ...</td>\n",
       "      <td>[[0.36025453]]</td>\n",
       "    </tr>\n",
       "    <tr>\n",
       "      <th>97</th>\n",
       "      <td>98</td>\n",
       "      <td>Student</td>\n",
       "      <td>Houston, Texas Area</td>\n",
       "      <td>4</td>\n",
       "      <td>0</td>\n",
       "      <td>[2.1085, 0.092194, -3.1865, -1.8936, 3.1295, 1...</td>\n",
       "      <td>[[0.33863744]]</td>\n",
       "    </tr>\n",
       "    <tr>\n",
       "      <th>102</th>\n",
       "      <td>103</td>\n",
       "      <td>Always set them up for Success</td>\n",
       "      <td>Greater Los Angeles Area</td>\n",
       "      <td>500+</td>\n",
       "      <td>0</td>\n",
       "      <td>[-2.80491, 1.080565, -1.296145, 0.328225, 0.91...</td>\n",
       "      <td>[[0.16266294]]</td>\n",
       "    </tr>\n",
       "  </tbody>\n",
       "</table>\n",
       "<p>104 rows × 7 columns</p>\n",
       "</div>"
      ],
      "text/plain": [
       "      id                                          job_title  \\\n",
       "52    53  Seeking Human Resources HRIS and Generalist Po...   \n",
       "61    62  Seeking Human Resources HRIS and Generalist Po...   \n",
       "39    40  Seeking Human Resources HRIS and Generalist Po...   \n",
       "9     10  Seeking Human Resources HRIS and Generalist Po...   \n",
       "7      8                               HR Senior Specialist   \n",
       "..   ...                                                ...   \n",
       "10    11                      Student at Chapman University   \n",
       "62    63                      Student at Chapman University   \n",
       "40    41                      Student at Chapman University   \n",
       "97    98                                            Student   \n",
       "102  103                     Always set them up for Success   \n",
       "\n",
       "                      location connection  fit  \\\n",
       "52   Greater Philadelphia Area      500+     1   \n",
       "61   Greater Philadelphia Area      500+     1   \n",
       "39   Greater Philadelphia Area      500+     1   \n",
       "9    Greater Philadelphia Area      500+     1   \n",
       "7       San Francisco Bay Area      500+     1   \n",
       "..                         ...        ...  ...   \n",
       "10     Lake Forest, California          2    0   \n",
       "62     Lake Forest, California          2    0   \n",
       "40     Lake Forest, California          2    0   \n",
       "97         Houston, Texas Area          4    0   \n",
       "102   Greater Los Angeles Area      500+     0   \n",
       "\n",
       "                                                vector      similarity  \n",
       "52   [-1.0868, -0.6150333, 0.2142684, 1.374375, 2.2...  [[0.89972734]]  \n",
       "61   [-1.0868, -0.6150333, 0.2142684, 1.374375, 2.2...  [[0.89972734]]  \n",
       "39   [-1.0868, -0.6150333, 0.2142684, 1.374375, 2.2...  [[0.89972734]]  \n",
       "9    [-1.0868, -0.6150333, 0.2142684, 1.374375, 2.2...  [[0.89972734]]  \n",
       "7    [1.1505734, -2.2, 1.95001, 1.8100666, 0.996463...  [[0.85866195]]  \n",
       "..                                                 ...             ...  \n",
       "10   [-0.21705396, -1.3085687, 0.7400333, 0.12965, ...  [[0.36025453]]  \n",
       "62   [-0.21705396, -1.3085687, 0.7400333, 0.12965, ...  [[0.36025453]]  \n",
       "40   [-0.21705396, -1.3085687, 0.7400333, 0.12965, ...  [[0.36025453]]  \n",
       "97   [2.1085, 0.092194, -3.1865, -1.8936, 3.1295, 1...  [[0.33863744]]  \n",
       "102  [-2.80491, 1.080565, -1.296145, 0.328225, 0.91...  [[0.16266294]]  \n",
       "\n",
       "[104 rows x 7 columns]"
      ]
     },
     "execution_count": 195,
     "metadata": {},
     "output_type": "execute_result"
    }
   ],
   "source": [
    "ranked_candidates"
   ]
  },
  {
   "cell_type": "code",
   "execution_count": 196,
   "id": "e7c034cf",
   "metadata": {},
   "outputs": [],
   "source": [
    "starred_candidate_index = 7  # Index of the starred candidate\n",
    "starred_candidate_fitness = ranked_candidates['similarity'][starred_candidate_index]\n",
    "ranked_candidates['similarity'] = ranked_candidates['similarity'].apply(lambda x: x + .1 if x == ranked_candidates['similarity'][starred_candidate_index] else x)\n",
    "re_ranked_candidates = ranked_candidates.sort_values(by='similarity', ascending=False)\n"
   ]
  },
  {
   "cell_type": "code",
   "execution_count": 197,
   "id": "273206ad",
   "metadata": {},
   "outputs": [
    {
     "data": {
      "text/plain": [
       "array([[0.85866195]], dtype=float32)"
      ]
     },
     "execution_count": 197,
     "metadata": {},
     "output_type": "execute_result"
    }
   ],
   "source": [
    "starred_candidate_fitness"
   ]
  },
  {
   "cell_type": "code",
   "execution_count": 198,
   "id": "b6c341bd",
   "metadata": {},
   "outputs": [
    {
     "data": {
      "text/html": [
       "<div>\n",
       "<style scoped>\n",
       "    .dataframe tbody tr th:only-of-type {\n",
       "        vertical-align: middle;\n",
       "    }\n",
       "\n",
       "    .dataframe tbody tr th {\n",
       "        vertical-align: top;\n",
       "    }\n",
       "\n",
       "    .dataframe thead th {\n",
       "        text-align: right;\n",
       "    }\n",
       "</style>\n",
       "<table border=\"1\" class=\"dataframe\">\n",
       "  <thead>\n",
       "    <tr style=\"text-align: right;\">\n",
       "      <th></th>\n",
       "      <th>id</th>\n",
       "      <th>job_title</th>\n",
       "      <th>location</th>\n",
       "      <th>connection</th>\n",
       "      <th>fit</th>\n",
       "      <th>vector</th>\n",
       "      <th>similarity</th>\n",
       "    </tr>\n",
       "  </thead>\n",
       "  <tbody>\n",
       "    <tr>\n",
       "      <th>25</th>\n",
       "      <td>26</td>\n",
       "      <td>HR Senior Specialist</td>\n",
       "      <td>San Francisco Bay Area</td>\n",
       "      <td>500+</td>\n",
       "      <td>1</td>\n",
       "      <td>[1.1505734, -2.2, 1.95001, 1.8100666, 0.996463...</td>\n",
       "      <td>[[0.958662]]</td>\n",
       "    </tr>\n",
       "    <tr>\n",
       "      <th>60</th>\n",
       "      <td>61</td>\n",
       "      <td>HR Senior Specialist</td>\n",
       "      <td>San Francisco Bay Area</td>\n",
       "      <td>500+</td>\n",
       "      <td>1</td>\n",
       "      <td>[1.1505734, -2.2, 1.95001, 1.8100666, 0.996463...</td>\n",
       "      <td>[[0.958662]]</td>\n",
       "    </tr>\n",
       "    <tr>\n",
       "      <th>50</th>\n",
       "      <td>51</td>\n",
       "      <td>HR Senior Specialist</td>\n",
       "      <td>San Francisco Bay Area</td>\n",
       "      <td>500+</td>\n",
       "      <td>1</td>\n",
       "      <td>[1.1505734, -2.2, 1.95001, 1.8100666, 0.996463...</td>\n",
       "      <td>[[0.958662]]</td>\n",
       "    </tr>\n",
       "    <tr>\n",
       "      <th>7</th>\n",
       "      <td>8</td>\n",
       "      <td>HR Senior Specialist</td>\n",
       "      <td>San Francisco Bay Area</td>\n",
       "      <td>500+</td>\n",
       "      <td>1</td>\n",
       "      <td>[1.1505734, -2.2, 1.95001, 1.8100666, 0.996463...</td>\n",
       "      <td>[[0.958662]]</td>\n",
       "    </tr>\n",
       "    <tr>\n",
       "      <th>37</th>\n",
       "      <td>38</td>\n",
       "      <td>HR Senior Specialist</td>\n",
       "      <td>San Francisco Bay Area</td>\n",
       "      <td>500+</td>\n",
       "      <td>1</td>\n",
       "      <td>[1.1505734, -2.2, 1.95001, 1.8100666, 0.996463...</td>\n",
       "      <td>[[0.958662]]</td>\n",
       "    </tr>\n",
       "    <tr>\n",
       "      <th>...</th>\n",
       "      <td>...</td>\n",
       "      <td>...</td>\n",
       "      <td>...</td>\n",
       "      <td>...</td>\n",
       "      <td>...</td>\n",
       "      <td>...</td>\n",
       "      <td>...</td>\n",
       "    </tr>\n",
       "    <tr>\n",
       "      <th>10</th>\n",
       "      <td>11</td>\n",
       "      <td>Student at Chapman University</td>\n",
       "      <td>Lake Forest, California</td>\n",
       "      <td>2</td>\n",
       "      <td>0</td>\n",
       "      <td>[-0.21705396, -1.3085687, 0.7400333, 0.12965, ...</td>\n",
       "      <td>[[0.36025453]]</td>\n",
       "    </tr>\n",
       "    <tr>\n",
       "      <th>62</th>\n",
       "      <td>63</td>\n",
       "      <td>Student at Chapman University</td>\n",
       "      <td>Lake Forest, California</td>\n",
       "      <td>2</td>\n",
       "      <td>0</td>\n",
       "      <td>[-0.21705396, -1.3085687, 0.7400333, 0.12965, ...</td>\n",
       "      <td>[[0.36025453]]</td>\n",
       "    </tr>\n",
       "    <tr>\n",
       "      <th>40</th>\n",
       "      <td>41</td>\n",
       "      <td>Student at Chapman University</td>\n",
       "      <td>Lake Forest, California</td>\n",
       "      <td>2</td>\n",
       "      <td>0</td>\n",
       "      <td>[-0.21705396, -1.3085687, 0.7400333, 0.12965, ...</td>\n",
       "      <td>[[0.36025453]]</td>\n",
       "    </tr>\n",
       "    <tr>\n",
       "      <th>97</th>\n",
       "      <td>98</td>\n",
       "      <td>Student</td>\n",
       "      <td>Houston, Texas Area</td>\n",
       "      <td>4</td>\n",
       "      <td>0</td>\n",
       "      <td>[2.1085, 0.092194, -3.1865, -1.8936, 3.1295, 1...</td>\n",
       "      <td>[[0.33863744]]</td>\n",
       "    </tr>\n",
       "    <tr>\n",
       "      <th>102</th>\n",
       "      <td>103</td>\n",
       "      <td>Always set them up for Success</td>\n",
       "      <td>Greater Los Angeles Area</td>\n",
       "      <td>500+</td>\n",
       "      <td>0</td>\n",
       "      <td>[-2.80491, 1.080565, -1.296145, 0.328225, 0.91...</td>\n",
       "      <td>[[0.16266294]]</td>\n",
       "    </tr>\n",
       "  </tbody>\n",
       "</table>\n",
       "<p>104 rows × 7 columns</p>\n",
       "</div>"
      ],
      "text/plain": [
       "      id                       job_title                  location connection  \\\n",
       "25    26            HR Senior Specialist    San Francisco Bay Area      500+    \n",
       "60    61            HR Senior Specialist    San Francisco Bay Area      500+    \n",
       "50    51            HR Senior Specialist    San Francisco Bay Area      500+    \n",
       "7      8            HR Senior Specialist    San Francisco Bay Area      500+    \n",
       "37    38            HR Senior Specialist    San Francisco Bay Area      500+    \n",
       "..   ...                             ...                       ...        ...   \n",
       "10    11   Student at Chapman University   Lake Forest, California          2   \n",
       "62    63   Student at Chapman University   Lake Forest, California          2   \n",
       "40    41   Student at Chapman University   Lake Forest, California          2   \n",
       "97    98                         Student       Houston, Texas Area          4   \n",
       "102  103  Always set them up for Success  Greater Los Angeles Area      500+    \n",
       "\n",
       "     fit                                             vector      similarity  \n",
       "25     1  [1.1505734, -2.2, 1.95001, 1.8100666, 0.996463...    [[0.958662]]  \n",
       "60     1  [1.1505734, -2.2, 1.95001, 1.8100666, 0.996463...    [[0.958662]]  \n",
       "50     1  [1.1505734, -2.2, 1.95001, 1.8100666, 0.996463...    [[0.958662]]  \n",
       "7      1  [1.1505734, -2.2, 1.95001, 1.8100666, 0.996463...    [[0.958662]]  \n",
       "37     1  [1.1505734, -2.2, 1.95001, 1.8100666, 0.996463...    [[0.958662]]  \n",
       "..   ...                                                ...             ...  \n",
       "10     0  [-0.21705396, -1.3085687, 0.7400333, 0.12965, ...  [[0.36025453]]  \n",
       "62     0  [-0.21705396, -1.3085687, 0.7400333, 0.12965, ...  [[0.36025453]]  \n",
       "40     0  [-0.21705396, -1.3085687, 0.7400333, 0.12965, ...  [[0.36025453]]  \n",
       "97     0  [2.1085, 0.092194, -3.1865, -1.8936, 3.1295, 1...  [[0.33863744]]  \n",
       "102    0  [-2.80491, 1.080565, -1.296145, 0.328225, 0.91...  [[0.16266294]]  \n",
       "\n",
       "[104 rows x 7 columns]"
      ]
     },
     "execution_count": 198,
     "metadata": {},
     "output_type": "execute_result"
    }
   ],
   "source": [
    "re_ranked_candidates"
   ]
  },
  {
   "cell_type": "code",
   "execution_count": null,
   "id": "e3fe73b6",
   "metadata": {},
   "outputs": [],
   "source": []
  }
 ],
 "metadata": {
  "kernelspec": {
   "display_name": "Python 3 (ipykernel)",
   "language": "python",
   "name": "python3"
  },
  "language_info": {
   "codemirror_mode": {
    "name": "ipython",
    "version": 3
   },
   "file_extension": ".py",
   "mimetype": "text/x-python",
   "name": "python",
   "nbconvert_exporter": "python",
   "pygments_lexer": "ipython3",
   "version": "3.9.13"
  }
 },
 "nbformat": 4,
 "nbformat_minor": 5
}
